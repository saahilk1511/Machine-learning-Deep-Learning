{
 "cells": [
  {
   "cell_type": "code",
   "execution_count": 1,
   "id": "a195a40d",
   "metadata": {},
   "outputs": [
    {
     "name": "stdout",
     "output_type": "stream",
     "text": [
      "Init Plugin\n",
      "Init Graph Optimizer\n",
      "Init Kernel\n"
     ]
    }
   ],
   "source": [
    "import tensorflow as tf\n",
    "import pandas as pd\n",
    "from tensorflow import keras\n",
    "import numpy as np\n",
    "import matplotlib.pyplot as plt\n",
    "import seaborn as sns\n",
    "\n",
    "import warnings\n",
    "warnings.filterwarnings('ignore')\n",
    "\n",
    "%matplotlib inline"
   ]
  },
  {
   "cell_type": "code",
   "execution_count": 2,
   "id": "4888b4e0",
   "metadata": {},
   "outputs": [],
   "source": [
    "(X_train_full, y_train_full), (X_test, y_test) = keras.datasets.mnist.load_data()"
   ]
  },
  {
   "cell_type": "markdown",
   "id": "38553d53",
   "metadata": {},
   "source": [
    "# Data Preprocessing\n"
   ]
  },
  {
   "cell_type": "code",
   "execution_count": 3,
   "id": "20b9bea7",
   "metadata": {},
   "outputs": [],
   "source": [
    "X_train_full = X_train_full / 255\n",
    "X_test = X_test / 255\n",
    "\n",
    "X_train, X_valid = X_train_full[:-5000], X_train_full[-5000:]\n",
    "y_train, y_valid = y_train_full[:-5000], y_train_full[-5000:]\n",
    "\n",
    "X_train = X_train[..., np.newaxis]\n",
    "X_valid = X_valid[..., np.newaxis]\n",
    "X_test = X_test[..., np.newaxis]"
   ]
  },
  {
   "cell_type": "code",
   "execution_count": 4,
   "id": "aae434d8",
   "metadata": {},
   "outputs": [],
   "source": [
    "from tensorflow.keras.utils import to_categorical\n",
    "y_cat_train = to_categorical(y_train,10)\n",
    "y_cat_test = to_categorical(y_test,10)\n",
    "y_cat_valid = to_categorical(y_valid,10)"
   ]
  },
  {
   "cell_type": "markdown",
   "id": "98b85660",
   "metadata": {},
   "source": [
    "# Create and Train the Model"
   ]
  },
  {
   "cell_type": "code",
   "execution_count": 5,
   "id": "d254e042",
   "metadata": {},
   "outputs": [],
   "source": [
    "from tensorflow.keras.models import Sequential\n",
    "from tensorflow.keras.layers import Dense, Conv2D, MaxPool2D, Flatten, BatchNormalization, Dropout, Activation\n",
    "from tensorflow.keras.callbacks import EarlyStopping, ModelCheckpoint, LearningRateScheduler\n",
    "from tensorflow.keras.initializers import RandomNormal, Constant\n",
    "from tensorflow.keras.optimizers import Nadam, RMSprop\n",
    "from tensorflow.keras.preprocessing.image import ImageDataGenerator"
   ]
  },
  {
   "cell_type": "code",
   "execution_count": 6,
   "id": "74673d6d",
   "metadata": {},
   "outputs": [],
   "source": [
    "#keras.backend.clear_session()\n",
    "#InitSeed = 767\n",
    "#tf.random.set_seed(InitSeed)\n",
    "#np.random.seed(InitSeed)\n",
    "\n",
    "# Time-based decay\n",
    "initial_learning_rate = 0.1\n",
    "epoch = 20\n",
    "decay = initial_learning_rate / epoch\n",
    "def lr_scheduler(epoch, learning_rate):\n",
    "    return learning_rate * 1 / (1 + decay * epoch)\n",
    "\n",
    "early_stop = EarlyStopping(monitor='val_accuracy',mode = \"max\", patience=7, verbose=1)"
   ]
  },
  {
   "cell_type": "code",
   "execution_count": 7,
   "id": "b21688d4",
   "metadata": {},
   "outputs": [],
   "source": [
    "## CNN structure base model\n",
    "def my_base():\n",
    "\n",
    "    model = Sequential()\n",
    "    # Convolutional layers\n",
    "    model.add(Conv2D(filters=64, kernel_size=(4,4),input_shape=(X_train.shape[1:]), activation='relu'))\n",
    "    model.add(Conv2D(filters=64, kernel_size=(4,4),input_shape=(X_train.shape[1:]), activation='relu'))\n",
    "       \n",
    "    # Pooling Layers\n",
    "    model.add(MaxPool2D(pool_size=(2, 2)))\n",
    "    model.add(Dropout(0.25))\n",
    "    \n",
    "    model.add(Flatten())\n",
    "    \n",
    "    model.add(Dense(128, activation='selu'))\n",
    "    model.add(Dropout(0.50))\n",
    "    \n",
    "    model.add(Dense(10, activation='softmax')) # Output layer\n",
    "\n",
    "    model.compile(loss='categorical_crossentropy',\n",
    "                  optimizer= Nadam(learning_rate=0.001),\n",
    "                  metrics=['accuracy']) \n",
    "\n",
    "    model.fit(X_train, y_cat_train, epochs=20, batch_size = 100, validation_data=(X_valid, y_cat_valid), \n",
    "              callbacks=[early_stop])\n",
    "    \n",
    "    return model"
   ]
  },
  {
   "cell_type": "code",
   "execution_count": 8,
   "id": "a41b119b",
   "metadata": {},
   "outputs": [],
   "source": [
    "# Image Augmentation Random Rotation\n",
    "datagen = ImageDataGenerator(rotation_range=90)"
   ]
  },
  {
   "cell_type": "code",
   "execution_count": 9,
   "id": "4ccdba07",
   "metadata": {},
   "outputs": [],
   "source": [
    "## CNN structure with BatchNormalization, LearningRateScheduler and Image Augmentation\n",
    "def my_design():\n",
    "    \n",
    "    model = Sequential()\n",
    "    # Convolutional layers\n",
    "    model.add(Conv2D(filters=64, kernel_size=(4,4),input_shape=(X_train.shape[1:]), \n",
    "                     strides=1, padding=\"same\", activation='relu'))\n",
    "    model.add(Conv2D(filters=64, kernel_size=(4,4),input_shape=(X_train.shape[1:]), \n",
    "                     strides=1, padding=\"same\", activation='relu'))\n",
    "    \n",
    "   # Batch Normalization\n",
    "    model.add(BatchNormalization())\n",
    "       \n",
    "    # Pooling Layers\n",
    "    model.add(MaxPool2D(pool_size=(2, 2)))\n",
    "    model.add(Dropout(0.25))\n",
    "    \n",
    "    model.add(Flatten())\n",
    "    \n",
    "    model.add(Dense(128, activation='selu'))\n",
    "    model.add(Dropout(0.50))\n",
    "    \n",
    "    model.add(Dense(10, activation='softmax')) # Output layer\n",
    "\n",
    "    model.compile(loss='categorical_crossentropy',\n",
    "                  optimizer= Nadam(learning_rate=0.001),\n",
    "                  metrics=['accuracy']) \n",
    "    \n",
    "    datagen.fit(X_train)\n",
    "\n",
    "    model.fit(datagen.flow(X_train, y_cat_train, batch_size=100), epochs=20, \n",
    "              validation_data=(X_valid, y_cat_valid), \n",
    "              callbacks=[early_stop, LearningRateScheduler(lr_scheduler, verbose=1)])\n",
    "    \n",
    "    # With TensorFlow 2.2+ we can now use .fit instead of .fit_generator for the data augmentation\n",
    "    \"\"\"\n",
    "    model.fit_generator(datagen.flow(X_train, y_cat_train, batch_size=100), \n",
    "                        steps_per_epoch=X_train.shape[0] // 100, epochs=20, \n",
    "                        validation_data=(X_valid, y_cat_valid), \n",
    "                        callbacks=[early_stop, LearningRateScheduler(lr_scheduler, verbose=1)])\n",
    "    \"\"\"\n",
    "    \n",
    "    return model"
   ]
  },
  {
   "cell_type": "markdown",
   "id": "7e787a97",
   "metadata": {},
   "source": [
    "# Evaluate the Model"
   ]
  },
  {
   "cell_type": "code",
   "execution_count": 10,
   "id": "f0f732cb",
   "metadata": {},
   "outputs": [],
   "source": [
    "from sklearn.metrics import classification_report, confusion_matrix,multilabel_confusion_matrix, accuracy_score\n",
    "\n",
    "def metrics(y_test, y_cat_test, predictions, model):\n",
    "    \n",
    "    print(\"############################ Classification Report ############################\\n\\n\",\n",
    "          classification_report(y_test, predictions))\n",
    "    \n",
    "    plt.figure(figsize=(15,6))\n",
    "    sns.heatmap(confusion_matrix(y_test,predictions),annot=True,cmap=\"Blues\" ,fmt='g')\n",
    "    plt.ylabel('True label')\n",
    "    plt.xlabel('Predicted label')\n",
    "    plt.title('Confusion matrix')\n",
    "    plt.show()\n",
    "    \n",
    "    metrics_data = (model.evaluate(X_test, y_cat_test,verbose=0))\n",
    "    \n",
    "    print(\"Accuracy: {}%\".format(round(metrics_data[1] * 100 ,2 )))\n",
    "    print(\"Loss: {}\\n\".format(metrics_data[0]))"
   ]
  },
  {
   "cell_type": "code",
   "execution_count": 31,
   "id": "150f59a1",
   "metadata": {},
   "outputs": [],
   "source": [
    "def plots(losses_b, losses):\n",
    "    \n",
    "    #losses_b[\"val_accuracy\"] = 1 - losses_b[\"val_accuracy\"]\n",
    "    #losses_b[\"accuracy\"] = 1 - losses_b[\"accuracy\"]\n",
    "    \n",
    "    #losses[\"val_accuracy\"] = 1 - losses[\"val_accuracy\"]\n",
    "    #losses[\"accuracy\"] = 1 - losses[\"accuracy\"]\n",
    "\n",
    "    fig, axes = plt.subplots(ncols=2, nrows = 1)\n",
    "\n",
    "    losses[['accuracy','val_accuracy']].plot(figsize=(20,7), \n",
    "                                     title=\"Train vs Validation Accuracy (BN, IA and, LRS)\", \n",
    "                                     xlabel=\"Epochs\",\n",
    "                                     ylabel=\"Accuracy_Score\", ax=axes[0])\n",
    "\n",
    "    losses_b[['accuracy','val_accuracy']].plot(figsize=(20,7), \n",
    "                                             title=\"Train vs Validation Accuracy (Base Model)\", \n",
    "                                             xlabel=\"Epochs\",\n",
    "                                            ylabel=\"Accuracy_Score\", ax=axes[1])\n",
    "    fig.show()"
   ]
  },
  {
   "cell_type": "code",
   "execution_count": 12,
   "id": "c99835dc",
   "metadata": {
    "scrolled": true
   },
   "outputs": [
    {
     "name": "stdout",
     "output_type": "stream",
     "text": [
      "Metal device set to: Apple M1\n",
      "Epoch 1/20\n"
     ]
    },
    {
     "name": "stderr",
     "output_type": "stream",
     "text": [
      "2021-11-10 11:34:38.672443: I tensorflow/core/common_runtime/pluggable_device/pluggable_device_factory.cc:305] Could not identify NUMA node of platform GPU ID 0, defaulting to 0. Your kernel may not have been built with NUMA support.\n",
      "2021-11-10 11:34:38.672538: I tensorflow/core/common_runtime/pluggable_device/pluggable_device_factory.cc:271] Created TensorFlow device (/job:localhost/replica:0/task:0/device:GPU:0 with 0 MB memory) -> physical PluggableDevice (device: 0, name: METAL, pci bus id: <undefined>)\n",
      "2021-11-10 11:34:38.797497: I tensorflow/compiler/mlir/mlir_graph_optimization_pass.cc:176] None of the MLIR Optimization Passes are enabled (registered 2)\n",
      "2021-11-10 11:34:38.797653: W tensorflow/core/platform/profile_utils/cpu_utils.cc:128] Failed to get CPU frequency: 0 Hz\n"
     ]
    },
    {
     "name": "stdout",
     "output_type": "stream",
     "text": [
      "\r",
      "  1/550 [..............................] - ETA: 3:03 - loss: 2.3139 - accuracy: 0.1300"
     ]
    },
    {
     "name": "stderr",
     "output_type": "stream",
     "text": [
      "2021-11-10 11:34:38.994913: I tensorflow/core/grappler/optimizers/custom_graph_optimizer_registry.cc:112] Plugin optimizer for device_type GPU is enabled.\n"
     ]
    },
    {
     "name": "stdout",
     "output_type": "stream",
     "text": [
      "550/550 [==============================] - ETA: 0s - loss: 0.1627 - accuracy: 0.9501"
     ]
    },
    {
     "name": "stderr",
     "output_type": "stream",
     "text": [
      "2021-11-10 11:34:56.865375: I tensorflow/core/grappler/optimizers/custom_graph_optimizer_registry.cc:112] Plugin optimizer for device_type GPU is enabled.\n"
     ]
    },
    {
     "name": "stdout",
     "output_type": "stream",
     "text": [
      "550/550 [==============================] - 19s 33ms/step - loss: 0.1627 - accuracy: 0.9501 - val_loss: 0.0559 - val_accuracy: 0.9848\n",
      "Epoch 2/20\n",
      "550/550 [==============================] - 18s 33ms/step - loss: 0.0616 - accuracy: 0.9813 - val_loss: 0.0322 - val_accuracy: 0.9916\n",
      "Epoch 3/20\n",
      "550/550 [==============================] - 18s 33ms/step - loss: 0.0434 - accuracy: 0.9865 - val_loss: 0.0376 - val_accuracy: 0.9910\n",
      "Epoch 4/20\n",
      "550/550 [==============================] - 18s 33ms/step - loss: 0.0359 - accuracy: 0.9886 - val_loss: 0.0432 - val_accuracy: 0.9896\n",
      "Epoch 5/20\n",
      "550/550 [==============================] - 18s 33ms/step - loss: 0.0312 - accuracy: 0.9900 - val_loss: 0.0403 - val_accuracy: 0.9896\n",
      "Epoch 6/20\n",
      "550/550 [==============================] - 18s 33ms/step - loss: 0.0277 - accuracy: 0.9909 - val_loss: 0.0394 - val_accuracy: 0.9892\n",
      "Epoch 7/20\n",
      "550/550 [==============================] - 18s 33ms/step - loss: 0.0230 - accuracy: 0.9927 - val_loss: 0.0375 - val_accuracy: 0.9910\n",
      "Epoch 8/20\n",
      "550/550 [==============================] - 19s 34ms/step - loss: 0.0219 - accuracy: 0.9931 - val_loss: 0.0323 - val_accuracy: 0.9924\n",
      "Epoch 9/20\n",
      "550/550 [==============================] - 18s 34ms/step - loss: 0.0181 - accuracy: 0.9938 - val_loss: 0.0385 - val_accuracy: 0.9912\n",
      "Epoch 10/20\n",
      "550/550 [==============================] - 19s 34ms/step - loss: 0.0164 - accuracy: 0.9946 - val_loss: 0.0371 - val_accuracy: 0.9926\n",
      "Epoch 11/20\n",
      "550/550 [==============================] - 20s 36ms/step - loss: 0.0161 - accuracy: 0.9946 - val_loss: 0.0408 - val_accuracy: 0.9908\n",
      "Epoch 12/20\n",
      "550/550 [==============================] - 20s 37ms/step - loss: 0.0145 - accuracy: 0.9949 - val_loss: 0.0368 - val_accuracy: 0.9928\n",
      "Epoch 13/20\n",
      "550/550 [==============================] - 21s 37ms/step - loss: 0.0147 - accuracy: 0.9951 - val_loss: 0.0416 - val_accuracy: 0.9916\n",
      "Epoch 14/20\n",
      "550/550 [==============================] - 19s 34ms/step - loss: 0.0140 - accuracy: 0.9951 - val_loss: 0.0391 - val_accuracy: 0.9918\n",
      "Epoch 15/20\n",
      "550/550 [==============================] - 18s 33ms/step - loss: 0.0116 - accuracy: 0.9963 - val_loss: 0.0393 - val_accuracy: 0.9924\n",
      "Epoch 16/20\n",
      "550/550 [==============================] - 18s 33ms/step - loss: 0.0107 - accuracy: 0.9965 - val_loss: 0.0475 - val_accuracy: 0.9918\n",
      "Epoch 17/20\n",
      "550/550 [==============================] - 18s 33ms/step - loss: 0.0108 - accuracy: 0.9966 - val_loss: 0.0479 - val_accuracy: 0.9924\n",
      "Epoch 18/20\n",
      "550/550 [==============================] - 18s 33ms/step - loss: 0.0099 - accuracy: 0.9967 - val_loss: 0.0418 - val_accuracy: 0.9932\n",
      "Epoch 19/20\n",
      "550/550 [==============================] - 18s 33ms/step - loss: 0.0100 - accuracy: 0.9967 - val_loss: 0.0421 - val_accuracy: 0.9920\n",
      "Epoch 20/20\n",
      "550/550 [==============================] - 18s 33ms/step - loss: 0.0095 - accuracy: 0.9969 - val_loss: 0.0432 - val_accuracy: 0.9932\n"
     ]
    }
   ],
   "source": [
    "cnn_b = my_base()\n",
    "losses_b = pd.DataFrame(cnn_b.history.history)"
   ]
  },
  {
   "cell_type": "code",
   "execution_count": 13,
   "id": "3e505c1c",
   "metadata": {},
   "outputs": [
    {
     "name": "stderr",
     "output_type": "stream",
     "text": [
      "2021-11-10 11:40:50.790620: I tensorflow/core/grappler/optimizers/custom_graph_optimizer_registry.cc:112] Plugin optimizer for device_type GPU is enabled.\n"
     ]
    },
    {
     "name": "stdout",
     "output_type": "stream",
     "text": [
      "############################ Classification Report ############################\n",
      "\n",
      "               precision    recall  f1-score   support\n",
      "\n",
      "           0       1.00      0.99      1.00       980\n",
      "           1       1.00      1.00      1.00      1135\n",
      "           2       1.00      0.99      0.99      1032\n",
      "           3       0.99      1.00      0.99      1010\n",
      "           4       0.99      1.00      1.00       982\n",
      "           5       0.99      0.99      0.99       892\n",
      "           6       0.99      1.00      0.99       958\n",
      "           7       0.99      1.00      0.99      1028\n",
      "           8       0.99      0.99      0.99       974\n",
      "           9       1.00      0.99      0.99      1009\n",
      "\n",
      "    accuracy                           0.99     10000\n",
      "   macro avg       0.99      0.99      0.99     10000\n",
      "weighted avg       0.99      0.99      0.99     10000\n",
      "\n"
     ]
    },
    {
     "data": {
      "image/png": "[encoded data removed]",
      "text/plain": [
       "<Figure size 1080x432 with 2 Axes>"
      ]
     },
     "metadata": {
      "needs_background": "light"
     },
     "output_type": "display_data"
    },
    {
     "name": "stderr",
     "output_type": "stream",
     "text": [
      "2021-11-10 11:40:52.476666: I tensorflow/core/grappler/optimizers/custom_graph_optimizer_registry.cc:112] Plugin optimizer for device_type GPU is enabled.\n"
     ]
    },
    {
     "name": "stdout",
     "output_type": "stream",
     "text": [
      "Accuracy: 99.45%\n",
      "Loss: 0.029661912471055984\n",
      "\n"
     ]
    }
   ],
   "source": [
    "predictions_b = np.argmax(cnn_b.predict(X_test), axis=-1)\n",
    "metrics(y_test, y_cat_test, predictions_b, cnn_b)"
   ]
  },
  {
   "cell_type": "code",
   "execution_count": 14,
   "id": "6bcd918a",
   "metadata": {
    "scrolled": true
   },
   "outputs": [
    {
     "name": "stdout",
     "output_type": "stream",
     "text": [
      "Epoch 1/20\n",
      "\n",
      "Epoch 00001: LearningRateScheduler reducing learning rate to 0.0010000000474974513.\n",
      "  2/550 [..............................] - ETA: 28s - loss: 6.9634 - accuracy: 0.1250 "
     ]
    },
    {
     "name": "stderr",
     "output_type": "stream",
     "text": [
      "2021-11-10 11:40:55.505801: I tensorflow/core/grappler/optimizers/custom_graph_optimizer_registry.cc:112] Plugin optimizer for device_type GPU is enabled.\n"
     ]
    },
    {
     "name": "stdout",
     "output_type": "stream",
     "text": [
      "550/550 [==============================] - ETA: 0s - loss: 0.4233 - accuracy: 0.8748"
     ]
    },
    {
     "name": "stderr",
     "output_type": "stream",
     "text": [
      "2021-11-10 11:41:23.410991: I tensorflow/core/grappler/optimizers/custom_graph_optimizer_registry.cc:112] Plugin optimizer for device_type GPU is enabled.\n"
     ]
    },
    {
     "name": "stdout",
     "output_type": "stream",
     "text": [
      "550/550 [==============================] - 30s 54ms/step - loss: 0.4233 - accuracy: 0.8748 - val_loss: 0.1909 - val_accuracy: 0.9524\n",
      "Epoch 2/20\n",
      "\n",
      "Epoch 00002: LearningRateScheduler reducing learning rate to 0.0009950249228830362.\n",
      "550/550 [==============================] - 32s 58ms/step - loss: 0.2169 - accuracy: 0.9341 - val_loss: 0.0990 - val_accuracy: 0.9712\n",
      "Epoch 3/20\n",
      "\n",
      "Epoch 00003: LearningRateScheduler reducing learning rate to 0.000985173190399857.\n",
      "550/550 [==============================] - 30s 54ms/step - loss: 0.1813 - accuracy: 0.9452 - val_loss: 0.0880 - val_accuracy: 0.9754\n",
      "Epoch 4/20\n",
      "\n",
      "Epoch 00004: LearningRateScheduler reducing learning rate to 0.0009706139500285018.\n",
      "550/550 [==============================] - 31s 57ms/step - loss: 0.1664 - accuracy: 0.9504 - val_loss: 0.0744 - val_accuracy: 0.9790\n",
      "Epoch 5/20\n",
      "\n",
      "Epoch 00005: LearningRateScheduler reducing learning rate to 0.0009515823216597532.\n",
      "550/550 [==============================] - 30s 54ms/step - loss: 0.1524 - accuracy: 0.9540 - val_loss: 0.0804 - val_accuracy: 0.9758\n",
      "Epoch 6/20\n",
      "\n",
      "Epoch 00006: LearningRateScheduler reducing learning rate to 0.0009283730078761171.\n",
      "550/550 [==============================] - 32s 58ms/step - loss: 0.1417 - accuracy: 0.9568 - val_loss: 0.0722 - val_accuracy: 0.9806\n",
      "Epoch 7/20\n",
      "\n",
      "Epoch 00007: LearningRateScheduler reducing learning rate to 0.0009013330270038935.\n",
      "550/550 [==============================] - 29s 52ms/step - loss: 0.1309 - accuracy: 0.9602 - val_loss: 0.0623 - val_accuracy: 0.9814\n",
      "Epoch 8/20\n",
      "\n",
      "Epoch 00008: LearningRateScheduler reducing learning rate to 0.0008708531383407001.\n",
      "550/550 [==============================] - 31s 57ms/step - loss: 0.1282 - accuracy: 0.9618 - val_loss: 0.0548 - val_accuracy: 0.9842\n",
      "Epoch 9/20\n",
      "\n",
      "Epoch 00009: LearningRateScheduler reducing learning rate to 0.0008373587871364389.\n",
      "550/550 [==============================] - 31s 57ms/step - loss: 0.1199 - accuracy: 0.9633 - val_loss: 0.0480 - val_accuracy: 0.9850\n",
      "Epoch 10/20\n",
      "\n",
      "Epoch 00010: LearningRateScheduler reducing learning rate to 0.0008013002512058573.\n",
      "550/550 [==============================] - 29s 52ms/step - loss: 0.1136 - accuracy: 0.9661 - val_loss: 0.0503 - val_accuracy: 0.9848\n",
      "Epoch 11/20\n",
      "\n",
      "Epoch 00011: LearningRateScheduler reducing learning rate to 0.0007631430690664621.\n",
      "550/550 [==============================] - 28s 52ms/step - loss: 0.1065 - accuracy: 0.9680 - val_loss: 0.0485 - val_accuracy: 0.9850\n",
      "Epoch 12/20\n",
      "\n",
      "Epoch 00012: LearningRateScheduler reducing learning rate to 0.0007233583540501188.\n",
      "550/550 [==============================] - 28s 52ms/step - loss: 0.0974 - accuracy: 0.9706 - val_loss: 0.0487 - val_accuracy: 0.9868\n",
      "Epoch 13/20\n",
      "\n",
      "Epoch 00013: LearningRateScheduler reducing learning rate to 0.0006824135472822302.\n",
      "550/550 [==============================] - 29s 52ms/step - loss: 0.0967 - accuracy: 0.9702 - val_loss: 0.0477 - val_accuracy: 0.9860\n",
      "Epoch 14/20\n",
      "\n",
      "Epoch 00014: LearningRateScheduler reducing learning rate to 0.0006407638683810201.\n",
      "550/550 [==============================] - 28s 52ms/step - loss: 0.0943 - accuracy: 0.9706 - val_loss: 0.0407 - val_accuracy: 0.9888\n",
      "Epoch 15/20\n",
      "\n",
      "Epoch 00015: LearningRateScheduler reducing learning rate to 0.0005988447130527173.\n",
      "550/550 [==============================] - 29s 52ms/step - loss: 0.0863 - accuracy: 0.9733 - val_loss: 0.0431 - val_accuracy: 0.9880\n",
      "Epoch 16/20\n",
      "\n",
      "Epoch 00016: LearningRateScheduler reducing learning rate to 0.0005570648584601491.\n",
      "550/550 [==============================] - 28s 52ms/step - loss: 0.0814 - accuracy: 0.9756 - val_loss: 0.0503 - val_accuracy: 0.9856\n",
      "Epoch 17/20\n",
      "\n",
      "Epoch 00017: LearningRateScheduler reducing learning rate to 0.0005158007735627944.\n",
      "550/550 [==============================] - 29s 52ms/step - loss: 0.0792 - accuracy: 0.9757 - val_loss: 0.0392 - val_accuracy: 0.9888\n",
      "Epoch 18/20\n",
      "\n",
      "Epoch 00018: LearningRateScheduler reducing learning rate to 0.00047539242796496863.\n",
      "550/550 [==============================] - 28s 52ms/step - loss: 0.0767 - accuracy: 0.9769 - val_loss: 0.0414 - val_accuracy: 0.9888\n",
      "Epoch 19/20\n",
      "\n",
      "Epoch 00019: LearningRateScheduler reducing learning rate to 0.00043613983023433234.\n",
      "550/550 [==============================] - 29s 52ms/step - loss: 0.0742 - accuracy: 0.9771 - val_loss: 0.0368 - val_accuracy: 0.9902\n",
      "Epoch 20/20\n",
      "\n",
      "Epoch 00020: LearningRateScheduler reducing learning rate to 0.0003983012026337456.\n",
      "550/550 [==============================] - 28s 52ms/step - loss: 0.0695 - accuracy: 0.9785 - val_loss: 0.0360 - val_accuracy: 0.9898\n"
     ]
    }
   ],
   "source": [
    "cnn = my_design()\n",
    "losses = pd.DataFrame(cnn.history.history)"
   ]
  },
  {
   "cell_type": "code",
   "execution_count": 15,
   "id": "e59b3688",
   "metadata": {},
   "outputs": [
    {
     "name": "stderr",
     "output_type": "stream",
     "text": [
      "2021-11-10 11:50:45.084231: I tensorflow/core/grappler/optimizers/custom_graph_optimizer_registry.cc:112] Plugin optimizer for device_type GPU is enabled.\n"
     ]
    },
    {
     "name": "stdout",
     "output_type": "stream",
     "text": [
      "############################ Classification Report ############################\n",
      "\n",
      "               precision    recall  f1-score   support\n",
      "\n",
      "           0       0.99      0.99      0.99       980\n",
      "           1       0.99      0.99      0.99      1135\n",
      "           2       0.99      0.97      0.98      1032\n",
      "           3       0.99      1.00      0.99      1010\n",
      "           4       0.98      0.99      0.98       982\n",
      "           5       0.98      0.99      0.98       892\n",
      "           6       0.99      0.98      0.99       958\n",
      "           7       0.97      0.99      0.98      1028\n",
      "           8       0.99      0.98      0.98       974\n",
      "           9       0.99      0.98      0.98      1009\n",
      "\n",
      "    accuracy                           0.99     10000\n",
      "   macro avg       0.99      0.99      0.99     10000\n",
      "weighted avg       0.99      0.99      0.99     10000\n",
      "\n"
     ]
    },
    {
     "data": {
      "image/png": "[encoded data removed]",
      "text/plain": [
       "<Figure size 1080x432 with 2 Axes>"
      ]
     },
     "metadata": {
      "needs_background": "light"
     },
     "output_type": "display_data"
    },
    {
     "name": "stdout",
     "output_type": "stream",
     "text": [
      "Accuracy: 98.63%\n",
      "Loss: 0.04396778345108032\n",
      "\n"
     ]
    }
   ],
   "source": [
    "#predictions = cnn.predict_classes(X_test) \n",
    "predictions = np.argmax(cnn.predict(X_test), axis=-1)\n",
    "metrics(y_test, y_cat_test, predictions, cnn)"
   ]
  },
  {
   "cell_type": "code",
   "execution_count": 32,
   "id": "477856c9",
   "metadata": {},
   "outputs": [
    {
     "data": {
      "image/png": "[encoded data removed]",
      "text/plain": [
       "<Figure size 1440x504 with 2 Axes>"
      ]
     },
     "metadata": {
      "needs_background": "light"
     },
     "output_type": "display_data"
    }
   ],
   "source": [
    "plots(losses, losses_b)"
   ]
  },
  {
   "cell_type": "code",
   "execution_count": 17,
   "id": "198765c6",
   "metadata": {},
   "outputs": [
    {
     "name": "stdout",
     "output_type": "stream",
     "text": [
      "Model: \"sequential_1\"\n",
      "_________________________________________________________________\n",
      "Layer (type)                 Output Shape              Param #   \n",
      "=================================================================\n",
      "conv2d_2 (Conv2D)            (None, 28, 28, 64)        1088      \n",
      "_________________________________________________________________\n",
      "conv2d_3 (Conv2D)            (None, 28, 28, 64)        65600     \n",
      "_________________________________________________________________\n",
      "batch_normalization (BatchNo (None, 28, 28, 64)        256       \n",
      "_________________________________________________________________\n",
      "max_pooling2d_1 (MaxPooling2 (None, 14, 14, 64)        0         \n",
      "_________________________________________________________________\n",
      "dropout_2 (Dropout)          (None, 14, 14, 64)        0         \n",
      "_________________________________________________________________\n",
      "flatten_1 (Flatten)          (None, 12544)             0         \n",
      "_________________________________________________________________\n",
      "dense_2 (Dense)              (None, 128)               1605760   \n",
      "_________________________________________________________________\n",
      "dropout_3 (Dropout)          (None, 128)               0         \n",
      "_________________________________________________________________\n",
      "dense_3 (Dense)              (None, 10)                1290      \n",
      "=================================================================\n",
      "Total params: 1,673,994\n",
      "Trainable params: 1,673,866\n",
      "Non-trainable params: 128\n",
      "_________________________________________________________________\n"
     ]
    }
   ],
   "source": [
    "cnn.summary()"
   ]
  },
  {
   "cell_type": "code",
   "execution_count": 18,
   "id": "f9d85d40",
   "metadata": {},
   "outputs": [
    {
     "name": "stdout",
     "output_type": "stream",
     "text": [
      "Model: \"sequential\"\n",
      "_________________________________________________________________\n",
      "Layer (type)                 Output Shape              Param #   \n",
      "=================================================================\n",
      "conv2d (Conv2D)              (None, 25, 25, 64)        1088      \n",
      "_________________________________________________________________\n",
      "conv2d_1 (Conv2D)            (None, 22, 22, 64)        65600     \n",
      "_________________________________________________________________\n",
      "max_pooling2d (MaxPooling2D) (None, 11, 11, 64)        0         \n",
      "_________________________________________________________________\n",
      "dropout (Dropout)            (None, 11, 11, 64)        0         \n",
      "_________________________________________________________________\n",
      "flatten (Flatten)            (None, 7744)              0         \n",
      "_________________________________________________________________\n",
      "dense (Dense)                (None, 128)               991360    \n",
      "_________________________________________________________________\n",
      "dropout_1 (Dropout)          (None, 128)               0         \n",
      "_________________________________________________________________\n",
      "dense_1 (Dense)              (None, 10)                1290      \n",
      "=================================================================\n",
      "Total params: 1,059,338\n",
      "Trainable params: 1,059,338\n",
      "Non-trainable params: 0\n",
      "_________________________________________________________________\n"
     ]
    }
   ],
   "source": [
    "cnn_b.summary()"
   ]
  },
  {
   "cell_type": "code",
   "execution_count": null,
   "id": "6bc8f43f",
   "metadata": {},
   "outputs": [],
   "source": []
  },
  {
   "cell_type": "code",
   "execution_count": null,
   "id": "e5756f98",
   "metadata": {},
   "outputs": [],
   "source": []
  },
  {
   "cell_type": "code",
   "execution_count": null,
   "id": "8e40b50c",
   "metadata": {},
   "outputs": [],
   "source": []
  }
 ],
 "metadata": {
  "kernelspec": {
   "display_name": "Python 3.9 (tfd)",
   "language": "python",
   "name": "tfd"
  },
  "language_info": {
   "codemirror_mode": {
    "name": "ipython",
    "version": 3
   },
   "file_extension": ".py",
   "mimetype": "text/x-python",
   "name": "python",
   "nbconvert_exporter": "python",
   "pygments_lexer": "ipython3",
   "version": "3.9.7"
  }
 },
 "nbformat": 4,
 "nbformat_minor": 5
}
