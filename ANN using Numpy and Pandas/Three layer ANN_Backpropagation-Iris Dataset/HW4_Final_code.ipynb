{
 "cells": [
  {
   "cell_type": "code",
   "execution_count": 1,
   "id": "b28d4871",
   "metadata": {},
   "outputs": [],
   "source": [
    "import pandas as pd\n",
    "import numpy as np\n",
    "import matplotlib.pyplot as plt\n",
    "import seaborn as sns\n",
    "import random\n",
    "%matplotlib inline"
   ]
  },
  {
   "cell_type": "code",
   "execution_count": 2,
   "id": "8f5e6b8c",
   "metadata": {},
   "outputs": [
    {
     "data": {
      "text/plain": [
       "['data',\n",
       " 'target',\n",
       " 'frame',\n",
       " 'target_names',\n",
       " 'DESCR',\n",
       " 'feature_names',\n",
       " 'filename',\n",
       " 'data_module']"
      ]
     },
     "execution_count": 2,
     "metadata": {},
     "output_type": "execute_result"
    }
   ],
   "source": [
    "from  sklearn.datasets import  load_iris\n",
    "iris = load_iris()\n",
    "list(iris.keys())"
   ]
  },
  {
   "cell_type": "code",
   "execution_count": 3,
   "id": "d464defa",
   "metadata": {},
   "outputs": [],
   "source": [
    "X = iris.data[:,:2]\n",
    "y = iris.target"
   ]
  },
  {
   "cell_type": "code",
   "execution_count": 4,
   "id": "3e79b87b",
   "metadata": {},
   "outputs": [],
   "source": [
    "random.seed(64)\n",
    "sample_size = random.sample( range(0,149),5)\n",
    "\n",
    "X_train = X[sample_size]\n",
    "y_train = y[sample_size]"
   ]
  },
  {
   "cell_type": "code",
   "execution_count": 5,
   "id": "e724a875",
   "metadata": {},
   "outputs": [],
   "source": [
    "class Parameters:\n",
    "    \n",
    "    def __init__(self, inputs, neurons):\n",
    "        self.weights = (np.random.randn(neurons, inputs))\n",
    "        self.bias = (np.random.randn(neurons, 1))\n",
    "\n",
    "class Model:\n",
    "    \n",
    "    def forward_prop(self, inputs, weights, bias):\n",
    "        self.output = np.dot(weights, inputs) + bias\n",
    "        \n",
    "    def cost_func(self, predicted, y):\n",
    "       \n",
    "        self.loss_func = np.mean(-np.log(predicted) )\n",
    "        \n",
    "    def back_prop(self, pred, lr, w, b, y, X):\n",
    "        \n",
    "        n = len(y)\n",
    "        dw = 1/n * np.dot((pred - y), X)\n",
    "        db = 1/n* np.sum(pred - y)\n",
    "\n",
    "        w = w - lr * dw\n",
    "        b = b - lr * db\n",
    "        self.new_weights = w\n",
    "        self.new_bias = b\n",
    "        "
   ]
  },
  {
   "cell_type": "code",
   "execution_count": 6,
   "id": "0e7d5056",
   "metadata": {},
   "outputs": [],
   "source": [
    "class Activation:\n",
    "    \n",
    "    def __init__(self, layer_output):\n",
    "        self.sigmoid = 1 / (1 + np.exp(-layer_output))\n",
    "        \n",
    "        e = np.exp(layer_output - np.max(layer_output, axis = 1, keepdims=True)) #To avoid overflow subtract with max value\n",
    "        self.softmax = e / np.sum(e, axis = 1, keepdims=True)\n",
    "        self.predicted = np.max(self.softmax, axis = 0,keepdims=False)\n",
    "        "
   ]
  },
  {
   "cell_type": "code",
   "execution_count": 7,
   "id": "fc646ef4",
   "metadata": {},
   "outputs": [
    {
     "name": "stdout",
     "output_type": "stream",
     "text": [
      "############# Round 1 #############\n",
      "Accuracy is 60.0%\n",
      "Cross Entropy Loss is 1.4499244588737885\n",
      "\n",
      "\n",
      "############# Round 2 #############\n",
      "Accuracy is 20.0%\n",
      "Cross Entropy Loss is 1.6094363153584907\n",
      "\n",
      "\n"
     ]
    }
   ],
   "source": [
    "np.random.seed(64)\n",
    "\n",
    "def main(rounds, n1, n2):\n",
    "    \n",
    "    #Define Parameters for input layer\n",
    "    paramters_input = Parameters(X_train.shape[1], n1)\n",
    "    \n",
    "    w1 = paramters_input.weights\n",
    "    b1 = paramters_input.bias\n",
    "    \n",
    "    #Define Parameters for hidden layer\n",
    "    paramters_hidden = Parameters(3, n2)\n",
    "    \n",
    "    w2 = paramters_hidden.weights\n",
    "    b2 = paramters_hidden.bias\n",
    "    \n",
    "    for i in range(rounds):\n",
    "        \n",
    "        \n",
    "        # Define class object for input layer with 3 neurons\n",
    "        input_layer = Model()\n",
    "        input_layer.forward_prop(X_train.T, w1, b1)\n",
    "        input_layer_out = (input_layer.output)\n",
    "        \n",
    "        # Active Neuron using sigmoid\n",
    "        input_layer_pred = Activation(input_layer_out)\n",
    "        final_input_out = input_layer_pred.sigmoid\n",
    "        \n",
    "        # Define class object for hidden layer 1 with 3 neurons\n",
    "        hidden_layer1 = Model()\n",
    "        hidden_layer1.forward_prop(final_input_out, w2, b2)\n",
    "        \n",
    "        # Active Neuron using Softmax\n",
    "        hidden_layer1_pred = Activation(hidden_layer1.output)\n",
    "        final_hidden_out = hidden_layer1_pred.softmax\n",
    "        final_prediction = hidden_layer1_pred.predicted\n",
    "        hidden_layer1.cost_func(final_prediction, y_train)\n",
    "        \n",
    "        print(f\"############# Round {i+1} #############\")\n",
    "        accuracy = (np.mean(np.argmax(final_hidden_out, axis = 0) == y_train) * 100)\n",
    "        print(\"Accuracy is {}%\".format(accuracy))\n",
    "        print(\"Cross Entropy Loss is {}\".format(hidden_layer1.loss_func))\n",
    "        print(\"\\n\")\n",
    "        \n",
    "        #Backpopgation\n",
    "        \n",
    "        hidden_layer1.back_prop(final_hidden_out, 0.5, \n",
    "                                w2, b2, y_train, final_input_out.T)\n",
    "        \n",
    "        input_layer.back_prop(final_input_out, 0.5, \n",
    "                              w1, b1, y_train, X_train)\n",
    "        \n",
    "        w1 = input_layer.new_weights\n",
    "        b1 = input_layer.new_bias\n",
    "        \n",
    "        w2 = hidden_layer1.new_weights\n",
    "        b2 = hidden_layer1.new_bias\n",
    "        \n",
    "\n",
    "main(rounds = 2, n1 = 3, n2 = 3)       "
   ]
  },
  {
   "cell_type": "code",
   "execution_count": 8,
   "id": "9e4841fc",
   "metadata": {},
   "outputs": [],
   "source": [
    "# bonus question"
   ]
  },
  {
   "cell_type": "code",
   "execution_count": 9,
   "id": "24776fbd",
   "metadata": {},
   "outputs": [],
   "source": [
    "X = iris.data[:,:4]\n",
    "y = iris.target"
   ]
  },
  {
   "cell_type": "code",
   "execution_count": 10,
   "id": "d5c8ddbc",
   "metadata": {},
   "outputs": [],
   "source": [
    "random.seed(64)\n",
    "sample_size = random.sample( range(0,149),5)\n",
    "\n",
    "X_train = X[sample_size]\n",
    "y_train = y[sample_size]"
   ]
  },
  {
   "cell_type": "code",
   "execution_count": 11,
   "id": "42b6edc2",
   "metadata": {},
   "outputs": [],
   "source": [
    "random.seed(64)\n",
    "sample_size = random.sample( range(0,149),5)\n",
    "\n",
    "X_train = X[sample_size]\n",
    "y_train = y[sample_size]"
   ]
  },
  {
   "cell_type": "code",
   "execution_count": 12,
   "id": "45b1244f",
   "metadata": {},
   "outputs": [
    {
     "name": "stdout",
     "output_type": "stream",
     "text": [
      "############# Round 1 #############\n",
      "Accuracy is 0.0%\n",
      "Cross Entropy Loss is 1.442427506344218\n",
      "\n",
      "\n",
      "############# Round 2 #############\n",
      "Accuracy is 40.0%\n",
      "Cross Entropy Loss is 1.6094379051418692\n",
      "\n",
      "\n"
     ]
    }
   ],
   "source": [
    "main(rounds = 2, n1 = 3, n2 = 5) "
   ]
  },
  {
   "cell_type": "code",
   "execution_count": null,
   "id": "3e502d38",
   "metadata": {},
   "outputs": [],
   "source": []
  },
  {
   "cell_type": "code",
   "execution_count": null,
   "id": "ed067dbb",
   "metadata": {},
   "outputs": [],
   "source": []
  }
 ],
 "metadata": {
  "kernelspec": {
   "display_name": "Python 3.9 (tfd)",
   "language": "python",
   "name": "tfd"
  },
  "language_info": {
   "codemirror_mode": {
    "name": "ipython",
    "version": 3
   },
   "file_extension": ".py",
   "mimetype": "text/x-python",
   "name": "python",
   "nbconvert_exporter": "python",
   "pygments_lexer": "ipython3",
   "version": "3.9.7"
  }
 },
 "nbformat": 4,
 "nbformat_minor": 5
}
