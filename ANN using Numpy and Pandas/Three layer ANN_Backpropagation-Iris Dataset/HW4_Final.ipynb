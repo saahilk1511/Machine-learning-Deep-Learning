{
 "cells": [
  {
   "cell_type": "code",
   "execution_count": 1,
   "id": "e87c9bfc",
   "metadata": {},
   "outputs": [],
   "source": [
    "import pandas as pd\n",
    "import numpy as np\n",
    "import matplotlib.pyplot as plt\n",
    "import seaborn as sns\n",
    "import random\n",
    "%matplotlib inline"
   ]
  },
  {
   "cell_type": "code",
   "execution_count": 2,
   "id": "73fdd033",
   "metadata": {},
   "outputs": [
    {
     "data": {
      "text/plain": [
       "['data',\n",
       " 'target',\n",
       " 'frame',\n",
       " 'target_names',\n",
       " 'DESCR',\n",
       " 'feature_names',\n",
       " 'filename',\n",
       " 'data_module']"
      ]
     },
     "execution_count": 2,
     "metadata": {},
     "output_type": "execute_result"
    }
   ],
   "source": [
    "from  sklearn.datasets import  load_iris\n",
    "iris = load_iris()\n",
    "list(iris.keys())"
   ]
  },
  {
   "cell_type": "code",
   "execution_count": 3,
   "id": "ae467365",
   "metadata": {},
   "outputs": [],
   "source": [
    "X = iris.data[:,:2]\n",
    "y = iris.target"
   ]
  },
  {
   "cell_type": "code",
   "execution_count": 4,
   "id": "705bec05",
   "metadata": {},
   "outputs": [],
   "source": [
    "random.seed(64)\n",
    "sample_size = random.sample( range(0,149),5)\n",
    "\n",
    "X_train = X[sample_size]\n",
    "y_train = y[sample_size]"
   ]
  },
  {
   "cell_type": "code",
   "execution_count": 5,
   "id": "17e9c965",
   "metadata": {},
   "outputs": [],
   "source": [
    "random.seed(64)\n",
    "sample_size = random.sample( range(0,149),5)\n",
    "\n",
    "X_train = X[sample_size]\n",
    "y_train = y[sample_size]"
   ]
  },
  {
   "cell_type": "code",
   "execution_count": 24,
   "id": "1f78b18c",
   "metadata": {},
   "outputs": [],
   "source": [
    "def initialize_parameters(n, neurons):\n",
    "    bias = (np.random.rand(neurons,1))\n",
    "    weights = (np.random.rand(neurons,n))\n",
    "    \n",
    "    return weights, bias"
   ]
  },
  {
   "cell_type": "code",
   "execution_count": 25,
   "id": "d260d57e",
   "metadata": {},
   "outputs": [],
   "source": [
    "def layer1(X, neurons):\n",
    "    \n",
    "    input_layer = []\n",
    "    pred_input = []\n",
    "    \n",
    "    n = X.shape[1]\n",
    "    weights, bias = initialize_parameters(n, neurons)\n",
    "    \n",
    "    layer1_out =  np.dot(weights, X.T) + bias\n",
    "    z = 1 / (1 + np.exp(-layer1_out))\n",
    "\n",
    "    pred_input.append(z)\n",
    "    input_layer.append(layer1_out)\n",
    "    \n",
    "    return pred_input[0], input_layer[0]"
   ]
  },
  {
   "cell_type": "code",
   "execution_count": 26,
   "id": "1eefeeea",
   "metadata": {},
   "outputs": [],
   "source": [
    "pred_input, input_layer = layer1(X_train, 3)"
   ]
  },
  {
   "cell_type": "code",
   "execution_count": 27,
   "id": "3fd9b614",
   "metadata": {},
   "outputs": [
    {
     "data": {
      "text/plain": [
       "array([[8.17458451, 8.51957282, 8.86371525, 9.12226424, 8.34746315],\n",
       "       [4.26175926, 4.69878351, 4.56809197, 4.76683384, 4.73832401],\n",
       "       [2.19410317, 2.17893407, 2.41699127, 2.46316588, 2.07141575]])"
      ]
     },
     "execution_count": 27,
     "metadata": {},
     "output_type": "execute_result"
    }
   ],
   "source": [
    "input_layer"
   ]
  },
  {
   "cell_type": "code",
   "execution_count": 28,
   "id": "91620618",
   "metadata": {},
   "outputs": [],
   "source": [
    "def layer2(input_layer, neurons):\n",
    "    \n",
    "    hidden_layer = []\n",
    "    pred_hidden = []\n",
    "    \n",
    "    n = np.array(input_layer).shape[0]\n",
    "    weights, bias = initialize_parameters(n, neurons)\n",
    "    \n",
    "    hidden_out = np.dot(weights, input_layer) + bias\n",
    "    softmax = np.exp(hidden_out) / np.exp(hidden_out).sum() \n",
    "    \n",
    "    pred_hidden.append(softmax)\n",
    "    hidden_layer.append(hidden_out)\n",
    "    \n",
    "    return hidden_layer[0], pred_hidden"
   ]
  },
  {
   "cell_type": "code",
   "execution_count": 33,
   "id": "478f0a9e",
   "metadata": {},
   "outputs": [],
   "source": [
    "hidden_layer, pred_hidden = layer2(input_layer, neurons= 3)"
   ]
  },
  {
   "cell_type": "code",
   "execution_count": 34,
   "id": "a01b468b",
   "metadata": {},
   "outputs": [
    {
     "data": {
      "text/plain": [
       "array([[ 2.89568737,  3.07411934,  3.05860031,  3.14834452,  3.0730629 ],\n",
       "       [11.65794258, 12.29310134, 12.52720995, 12.91243126, 12.15781748],\n",
       "       [ 8.43821205,  8.78633752,  9.06157032,  9.3060979 ,  8.64540781]])"
      ]
     },
     "execution_count": 34,
     "metadata": {},
     "output_type": "execute_result"
    }
   ],
   "source": [
    "hidden_layer"
   ]
  },
  {
   "cell_type": "code",
   "execution_count": 35,
   "id": "87fb8738",
   "metadata": {},
   "outputs": [],
   "source": [
    "hidden_layer2, pred_hidden2 = layer2(hidden_layer, neurons= 5)"
   ]
  },
  {
   "cell_type": "code",
   "execution_count": 36,
   "id": "36a766f9",
   "metadata": {},
   "outputs": [
    {
     "data": {
      "text/plain": [
       "array([[ 9.20245595,  9.653829  ,  9.78429112, 10.04988661,  9.57401109],\n",
       "       [11.74704477, 12.36067447, 12.57962057, 12.95014202, 12.23326125],\n",
       "       [ 4.77655491,  4.98175039,  5.12300338,  5.2623676 ,  4.90821742],\n",
       "       [19.33947418, 20.2631388 , 20.69030525, 21.27021323, 20.02698747],\n",
       "       [ 5.50245742,  5.76067298,  5.89394537,  6.05921086,  5.68835755]])"
      ]
     },
     "execution_count": 36,
     "metadata": {},
     "output_type": "execute_result"
    }
   ],
   "source": [
    "hidden_layer2"
   ]
  },
  {
   "cell_type": "code",
   "execution_count": null,
   "id": "8b955dab",
   "metadata": {},
   "outputs": [],
   "source": []
  }
 ],
 "metadata": {
  "kernelspec": {
   "display_name": "Python 3.9 (tfd)",
   "language": "python",
   "name": "tfd"
  },
  "language_info": {
   "codemirror_mode": {
    "name": "ipython",
    "version": 3
   },
   "file_extension": ".py",
   "mimetype": "text/x-python",
   "name": "python",
   "nbconvert_exporter": "python",
   "pygments_lexer": "ipython3",
   "version": "3.9.7"
  }
 },
 "nbformat": 4,
 "nbformat_minor": 5
}
