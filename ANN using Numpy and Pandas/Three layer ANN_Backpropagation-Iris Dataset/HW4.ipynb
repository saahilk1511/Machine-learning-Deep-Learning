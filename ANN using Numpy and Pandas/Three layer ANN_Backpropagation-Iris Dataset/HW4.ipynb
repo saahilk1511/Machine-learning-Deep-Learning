{
 "cells": [
  {
   "cell_type": "code",
   "execution_count": 1,
   "id": "f278c733",
   "metadata": {},
   "outputs": [],
   "source": [
    "import pandas as pd\n",
    "import numpy as np\n",
    "import matplotlib.pyplot as plt\n",
    "import seaborn as sns\n",
    "import random\n",
    "%matplotlib inline"
   ]
  },
  {
   "cell_type": "code",
   "execution_count": 2,
   "id": "ebbfffd6",
   "metadata": {},
   "outputs": [
    {
     "data": {
      "text/plain": [
       "['data',\n",
       " 'target',\n",
       " 'frame',\n",
       " 'target_names',\n",
       " 'DESCR',\n",
       " 'feature_names',\n",
       " 'filename',\n",
       " 'data_module']"
      ]
     },
     "execution_count": 2,
     "metadata": {},
     "output_type": "execute_result"
    }
   ],
   "source": [
    "from  sklearn.datasets import  load_iris\n",
    "iris = load_iris()\n",
    "list(iris.keys())"
   ]
  },
  {
   "cell_type": "code",
   "execution_count": 3,
   "id": "0c553b12",
   "metadata": {},
   "outputs": [],
   "source": [
    "X = iris.data[:,:2]\n",
    "y = iris.target"
   ]
  },
  {
   "cell_type": "code",
   "execution_count": 4,
   "id": "322b8c56",
   "metadata": {},
   "outputs": [],
   "source": [
    "random.seed(64)\n",
    "sample_size = random.sample( range(0,149),5)\n",
    "\n",
    "X_train = X[sample_size]\n",
    "y_train = y[sample_size]"
   ]
  },
  {
   "cell_type": "code",
   "execution_count": null,
   "id": "12038dd2",
   "metadata": {},
   "outputs": [],
   "source": []
  },
  {
   "cell_type": "code",
   "execution_count": null,
   "id": "b27485f9",
   "metadata": {},
   "outputs": [],
   "source": [
    "def initialize_parameters():\n",
    "    weights = [] \n",
    "    bias = []\n",
    "    bias.append(random.random(3,1))\n",
    "    weights.append(random.random(3,2))\n",
    "    \n",
    "    return weights, bias"
   ]
  },
  {
   "cell_type": "code",
   "execution_count": null,
   "id": "6e5d4a82",
   "metadata": {},
   "outputs": [],
   "source": [
    "def model(X, y, iterations):\n",
    "    \n",
    "    costs = []\n",
    "\n",
    "    counter = 0\n",
    "    n = len(X)\n",
    "    w, b = initialize_parameters()\n",
    "   \n",
    "    while iterations > counter:\n",
    "        \n",
    "        z = np.dot(w.T, X.T) + b\n",
    "        pred = 1 / (1 + np.exp(-z))\n",
    "        \n",
    "        #Calculate Loss Function\n",
    "        entropy = -(1/n) * np.sum(y*np.log(pred)+(1-y)*np.log(1-pred))\n",
    "        \n",
    "        # find gradient (back propagation)\n",
    "        dw = 1/n * np.dot(X.T, (pred - y).T)\n",
    "        db = 1/n* np.sum(pred - y)\n",
    "        \n",
    "        w = w - 0.05 * dw\n",
    "        b = b - 0.05 * db"
   ]
  },
  {
   "cell_type": "code",
   "execution_count": null,
   "id": "aa6529e4",
   "metadata": {},
   "outputs": [],
   "source": [
    "weights, bias = initialize_parameters(X_train)"
   ]
  },
  {
   "cell_type": "code",
   "execution_count": null,
   "id": "3aa40bf6",
   "metadata": {},
   "outputs": [],
   "source": [
    "weights"
   ]
  },
  {
   "cell_type": "code",
   "execution_count": null,
   "id": "a9cb96d5",
   "metadata": {},
   "outputs": [],
   "source": []
  },
  {
   "cell_type": "code",
   "execution_count": null,
   "id": "96bd3f41",
   "metadata": {},
   "outputs": [],
   "source": [
    "np.sum(X_train * np.random.rand(5,2))"
   ]
  },
  {
   "cell_type": "code",
   "execution_count": null,
   "id": "dd408da8",
   "metadata": {},
   "outputs": [],
   "source": [
    "X_train"
   ]
  },
  {
   "cell_type": "code",
   "execution_count": 14,
   "id": "448d57a1",
   "metadata": {},
   "outputs": [
    {
     "data": {
      "text/plain": [
       "array([[0.71075037, 0.22890993],\n",
       "       [0.88688261, 0.32913875],\n",
       "       [0.41373835, 0.90385746]])"
      ]
     },
     "execution_count": 14,
     "metadata": {},
     "output_type": "execute_result"
    }
   ],
   "source": [
    "np.random.rand(3,2)"
   ]
  },
  {
   "cell_type": "code",
   "execution_count": 5,
   "id": "a5e791d9",
   "metadata": {},
   "outputs": [],
   "source": [
    "w_temp = np.random.rand(3,2)\n",
    "b_temp = np.random.rand(3,1)\n",
    "input_layer = []\n",
    "pred_input = []\n",
    "\n",
    "for n_weights, n_bias in zip(w_temp,b_temp):\n",
    "    layer1_out = 0\n",
    "    \n",
    "    for n_inputs, weight in zip(X_train.T, n_weights):\n",
    "        layer1_out  += n_inputs * weight\n",
    "        \n",
    "    layer1_out  += n_bias\n",
    "    z = 1 / (1 + np.exp(-layer1_out))\n",
    "    \n",
    "    pred_input.append(z)\n",
    "    input_layer.append(layer1_out)"
   ]
  },
  {
   "cell_type": "code",
   "execution_count": 6,
   "id": "6a751f5a",
   "metadata": {},
   "outputs": [
    {
     "data": {
      "text/plain": [
       "[array([8.26511831, 8.62044413, 8.96253203, 9.22601778, 8.44879846]),\n",
       " array([4.84370348, 4.70849168, 5.33875642, 5.41131951, 4.42815369]),\n",
       " array([2.35579521, 2.41190469, 2.53595378, 2.5934767 , 2.3529683 ])]"
      ]
     },
     "execution_count": 6,
     "metadata": {},
     "output_type": "execute_result"
    }
   ],
   "source": [
    "input_layer"
   ]
  },
  {
   "cell_type": "code",
   "execution_count": 7,
   "id": "6b7cf84a",
   "metadata": {},
   "outputs": [
    {
     "data": {
      "text/plain": [
       "[array([0.99974273, 0.99981965, 0.99987189, 0.99990157, 0.99978589]),\n",
       " array([0.99218375, 0.99106223, 0.99522111, 0.99555411, 0.98820429]),\n",
       " array([0.91339376, 0.9177306 , 0.92662419, 0.93044057, 0.91316988])]"
      ]
     },
     "execution_count": 7,
     "metadata": {},
     "output_type": "execute_result"
    }
   ],
   "source": [
    "pred_input"
   ]
  },
  {
   "cell_type": "code",
   "execution_count": 12,
   "id": "a34df361",
   "metadata": {},
   "outputs": [],
   "source": [
    "w_temp2 = np.random.rand(3,3)\n",
    "b_temp2 = np.random.rand(3,1)\n",
    "hidden_layer = []\n",
    "pred_hidden = []\n",
    "for h_weights, h_bias in zip(w_temp2,b_temp2):\n",
    "    hidden_out = 0\n",
    "    \n",
    "    for h_inputs, h_weight in zip(input_layer, h_weights):\n",
    "        hidden_out += h_inputs * h_weight\n",
    "        \n",
    "    hidden_out += h_bias    \n",
    "    softmax = np.exp(hidden_out) / hidden_out.sum() \n",
    "\n",
    "    pred_hidden.append(softmax)\n",
    "    hidden_layer.append(hidden_out)"
   ]
  },
  {
   "cell_type": "code",
   "execution_count": 13,
   "id": "9a951c91",
   "metadata": {},
   "outputs": [
    {
     "data": {
      "text/plain": [
       "[array([8.57015942, 8.58621976, 9.34991642, 9.53187902, 8.2383549 ]),\n",
       " array([1.00809951, 1.01401632, 1.09371372, 1.11491965, 0.97752128]),\n",
       " array([ 9.32991743,  9.67851102, 10.09606897, 10.37318789,  9.47286679])]"
      ]
     },
     "execution_count": 13,
     "metadata": {},
     "output_type": "execute_result"
    }
   ],
   "source": [
    "hidden_layer"
   ]
  },
  {
   "cell_type": "code",
   "execution_count": null,
   "id": "5977bc59",
   "metadata": {},
   "outputs": [],
   "source": [
    "r = hidden_layer[0]"
   ]
  },
  {
   "cell_type": "code",
   "execution_count": null,
   "id": "107ca591",
   "metadata": {},
   "outputs": [],
   "source": [
    "np.exp(r)"
   ]
  },
  {
   "cell_type": "code",
   "execution_count": null,
   "id": "609cb597",
   "metadata": {},
   "outputs": [],
   "source": [
    "X_train.T[1]"
   ]
  },
  {
   "cell_type": "code",
   "execution_count": null,
   "id": "16eb4b8d",
   "metadata": {},
   "outputs": [],
   "source": [
    "w_temp[0][0]"
   ]
  },
  {
   "cell_type": "code",
   "execution_count": null,
   "id": "0a74db7c",
   "metadata": {},
   "outputs": [],
   "source": [
    "w_temp[0][1]"
   ]
  },
  {
   "cell_type": "code",
   "execution_count": null,
   "id": "2cb3fbd4",
   "metadata": {},
   "outputs": [],
   "source": [
    "z = []\n",
    "pred = []\n",
    "for j in range(0,3):\n",
    "    for i in range(0,5):\n",
    "        X2 = (X_train.T[1] * w_temp[j][1]) \n",
    "        X1 = (X_train.T[0] * w_temp[j][0])\n",
    "        z.append((X1[i] + X2[i]) + b_temp[j])\n",
    "        pred.append(1 / (1 + np.exp(-z[i])))"
   ]
  },
  {
   "cell_type": "code",
   "execution_count": null,
   "id": "3ab10eec",
   "metadata": {},
   "outputs": [],
   "source": [
    "pred"
   ]
  },
  {
   "cell_type": "code",
   "execution_count": null,
   "id": "852228c1",
   "metadata": {},
   "outputs": [],
   "source": [
    "pred11"
   ]
  },
  {
   "cell_type": "code",
   "execution_count": null,
   "id": "4be9abad",
   "metadata": {},
   "outputs": [],
   "source": [
    "N1 = np.array(pred[0:5]).T\n",
    "N2 = np.array(pred[5:10]).T\n",
    "N3 = np.array(pred[10:15]).T"
   ]
  },
  {
   "cell_type": "code",
   "execution_count": null,
   "id": "98add26c",
   "metadata": {},
   "outputs": [],
   "source": [
    "w_temp2 = np.random.rand(3,3)\n",
    "b_temp2 = np.random.rand(3,1)\n",
    "z1 = []\n",
    "final_pred = []\n",
    "\n",
    "for j in range(0,3):\n",
    "    new_n1 = N1[0] * w_temp2[j][0]\n",
    "    new_n2 = N2[0] * w_temp2[j][1]\n",
    "    new_n3 = N3[0] * w_temp2[j][2]\n",
    "    for i in range(0,5):\n",
    "        z1.append((new_n1[i] + new_n2[i] + new_n3[i]) + b_temp2[j])\n",
    "        "
   ]
  },
  {
   "cell_type": "code",
   "execution_count": null,
   "id": "13bfef2c",
   "metadata": {},
   "outputs": [],
   "source": [
    "e1 = np.array(z1[0:5]).T\n",
    "e2 = np.array(z1[5:10]).T\n",
    "e3 = np.array(z1[10:15]).T"
   ]
  },
  {
   "cell_type": "code",
   "execution_count": null,
   "id": "965917d3",
   "metadata": {},
   "outputs": [],
   "source": [
    "np.exp(e1) / e1.sum()"
   ]
  },
  {
   "cell_type": "code",
   "execution_count": null,
   "id": "154a9421",
   "metadata": {},
   "outputs": [],
   "source": [
    "np.exp(e2) / e2.sum()"
   ]
  },
  {
   "cell_type": "code",
   "execution_count": null,
   "id": "f9690d80",
   "metadata": {},
   "outputs": [],
   "source": [
    "np.exp(e3) / e3.sum()"
   ]
  },
  {
   "cell_type": "code",
   "execution_count": null,
   "id": "b61264b1",
   "metadata": {},
   "outputs": [],
   "source": [
    "e3"
   ]
  },
  {
   "cell_type": "code",
   "execution_count": null,
   "id": "5bbeafb9",
   "metadata": {},
   "outputs": [],
   "source": [
    "pred_hidden"
   ]
  },
  {
   "cell_type": "code",
   "execution_count": null,
   "id": "0d975ed8",
   "metadata": {},
   "outputs": [],
   "source": [
    "b_temp2"
   ]
  },
  {
   "cell_type": "code",
   "execution_count": null,
   "id": "23e7ce11",
   "metadata": {},
   "outputs": [],
   "source": [
    "z1 = []\n",
    "\n"
   ]
  },
  {
   "cell_type": "code",
   "execution_count": null,
   "id": "fc037e05",
   "metadata": {},
   "outputs": [],
   "source": [
    "new_n1 = z1[0:15]"
   ]
  },
  {
   "cell_type": "code",
   "execution_count": null,
   "id": "079b56ef",
   "metadata": {},
   "outputs": [],
   "source": [
    "new_n2 = z1[15:30]"
   ]
  },
  {
   "cell_type": "code",
   "execution_count": null,
   "id": "0fc61f32",
   "metadata": {},
   "outputs": [],
   "source": [
    "new_n3 = z1[30:45]"
   ]
  },
  {
   "cell_type": "code",
   "execution_count": null,
   "id": "d7630f9c",
   "metadata": {},
   "outputs": [],
   "source": [
    "def softmax(vector):\n",
    "    e = np.exp(vector)\n",
    "    return e / e.sum()"
   ]
  },
  {
   "cell_type": "code",
   "execution_count": null,
   "id": "3b88a136",
   "metadata": {},
   "outputs": [],
   "source": [
    "pred_n1 = []\n",
    "for i in range(0,len(new_n1)):\n",
    "    pred_n1.append(np.exp(new_n1[i]) / np.array(new_n1).sum())\n"
   ]
  },
  {
   "cell_type": "code",
   "execution_count": null,
   "id": "7870ab68",
   "metadata": {},
   "outputs": [],
   "source": [
    "pred_n1"
   ]
  },
  {
   "cell_type": "code",
   "execution_count": null,
   "id": "670381fa",
   "metadata": {},
   "outputs": [],
   "source": [
    "w_temp2[0][0]"
   ]
  },
  {
   "cell_type": "code",
   "execution_count": null,
   "id": "9a56ffbf",
   "metadata": {},
   "outputs": [],
   "source": [
    "w_temp11"
   ]
  },
  {
   "cell_type": "code",
   "execution_count": null,
   "id": "1f458c3a",
   "metadata": {},
   "outputs": [],
   "source": [
    "N1[0] * w_temp2[0][0]"
   ]
  },
  {
   "cell_type": "code",
   "execution_count": null,
   "id": "8f005cef",
   "metadata": {},
   "outputs": [],
   "source": [
    "N2[0] * w_temp2[0][1]"
   ]
  },
  {
   "cell_type": "code",
   "execution_count": null,
   "id": "badcc8e0",
   "metadata": {},
   "outputs": [],
   "source": [
    "N3[0] * w_temp2[0][2]"
   ]
  },
  {
   "cell_type": "code",
   "execution_count": null,
   "id": "e20a5c8c",
   "metadata": {},
   "outputs": [],
   "source": []
  },
  {
   "cell_type": "code",
   "execution_count": null,
   "id": "b24ec445",
   "metadata": {},
   "outputs": [],
   "source": [
    "N1[0] * w_temp2[1][0]"
   ]
  },
  {
   "cell_type": "code",
   "execution_count": null,
   "id": "b285c85c",
   "metadata": {},
   "outputs": [],
   "source": [
    "N2[0] * w_temp2[1][1]"
   ]
  },
  {
   "cell_type": "code",
   "execution_count": null,
   "id": "2e0662cf",
   "metadata": {},
   "outputs": [],
   "source": [
    "N3[0] * w_temp2[1][2]"
   ]
  },
  {
   "cell_type": "code",
   "execution_count": null,
   "id": "8df2df81",
   "metadata": {},
   "outputs": [],
   "source": []
  },
  {
   "cell_type": "code",
   "execution_count": null,
   "id": "085e3955",
   "metadata": {},
   "outputs": [],
   "source": [
    "N1[0] * w_temp2[2][0]"
   ]
  },
  {
   "cell_type": "code",
   "execution_count": null,
   "id": "671da36d",
   "metadata": {},
   "outputs": [],
   "source": [
    "N2[0] * w_temp2[2][1]"
   ]
  },
  {
   "cell_type": "code",
   "execution_count": null,
   "id": "91acd391",
   "metadata": {},
   "outputs": [],
   "source": [
    "N3[0] * w_temp2[2][2]"
   ]
  },
  {
   "cell_type": "code",
   "execution_count": null,
   "id": "5c9f57ea",
   "metadata": {},
   "outputs": [],
   "source": []
  }
 ],
 "metadata": {
  "kernelspec": {
   "display_name": "Python 3.9 (tfd)",
   "language": "python",
   "name": "tfd"
  },
  "language_info": {
   "codemirror_mode": {
    "name": "ipython",
    "version": 3
   },
   "file_extension": ".py",
   "mimetype": "text/x-python",
   "name": "python",
   "nbconvert_exporter": "python",
   "pygments_lexer": "ipython3",
   "version": "3.9.7"
  }
 },
 "nbformat": 4,
 "nbformat_minor": 5
}
