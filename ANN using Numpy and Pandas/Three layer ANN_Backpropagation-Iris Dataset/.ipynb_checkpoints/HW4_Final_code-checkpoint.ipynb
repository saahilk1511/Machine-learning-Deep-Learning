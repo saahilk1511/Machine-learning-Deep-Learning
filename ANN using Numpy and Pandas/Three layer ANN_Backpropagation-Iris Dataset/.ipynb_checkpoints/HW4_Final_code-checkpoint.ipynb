{
 "cells": [
  {
   "cell_type": "code",
   "execution_count": 1,
   "id": "b28d4871",
   "metadata": {},
   "outputs": [],
   "source": [
    "import pandas as pd\n",
    "import numpy as np\n",
    "import matplotlib.pyplot as plt\n",
    "import seaborn as sns\n",
    "import random\n",
    "%matplotlib inline"
   ]
  },
  {
   "cell_type": "code",
   "execution_count": 2,
   "id": "8f5e6b8c",
   "metadata": {},
   "outputs": [
    {
     "data": {
      "text/plain": [
       "['data',\n",
       " 'target',\n",
       " 'frame',\n",
       " 'target_names',\n",
       " 'DESCR',\n",
       " 'feature_names',\n",
       " 'filename',\n",
       " 'data_module']"
      ]
     },
     "execution_count": 2,
     "metadata": {},
     "output_type": "execute_result"
    }
   ],
   "source": [
    "from  sklearn.datasets import  load_iris\n",
    "iris = load_iris()\n",
    "list(iris.keys())"
   ]
  },
  {
   "cell_type": "code",
   "execution_count": 3,
   "id": "d464defa",
   "metadata": {},
   "outputs": [],
   "source": [
    "X = iris.data[:,:2]\n",
    "y = iris.target"
   ]
  },
  {
   "cell_type": "code",
   "execution_count": 4,
   "id": "3e79b87b",
   "metadata": {},
   "outputs": [],
   "source": [
    "random.seed(64)\n",
    "sample_size = random.sample( range(0,149),5)\n",
    "\n",
    "X_train = X[sample_size]\n",
    "y_train = y[sample_size]"
   ]
  },
  {
   "cell_type": "code",
   "execution_count": 5,
   "id": "7aa742c7",
   "metadata": {},
   "outputs": [],
   "source": [
    "random.seed(64)\n",
    "sample_size = random.sample( range(0,149),5)\n",
    "\n",
    "X_train = X[sample_size]\n",
    "y_train = y[sample_size]"
   ]
  },
  {
   "cell_type": "code",
   "execution_count": 24,
   "id": "908a2727",
   "metadata": {},
   "outputs": [],
   "source": [
    "def initialize_parameters(n, neurons):\n",
    "    bias = (np.random.rand(neurons,1))\n",
    "    weights = (np.random.rand(neurons,n))\n",
    "    \n",
    "    return weights, bias"
   ]
  },
  {
   "cell_type": "code",
   "execution_count": 25,
   "id": "35b491e0",
   "metadata": {},
   "outputs": [],
   "source": [
    "def layer1(X, neurons):\n",
    "    \n",
    "    input_layer = []\n",
    "    pred_input = []\n",
    "    \n",
    "    n = X.shape[1]\n",
    "    weights, bias = initialize_parameters(n, neurons)\n",
    "    \n",
    "    layer1_out =  np.dot(weights, X.T) + bias\n",
    "    z = 1 / (1 + np.exp(-layer1_out))\n",
    "\n",
    "    pred_input.append(z)\n",
    "    input_layer.append(layer1_out)\n",
    "    \n",
    "    return pred_input[0], input_layer[0]"
   ]
  },
  {
   "cell_type": "code",
   "execution_count": 26,
   "id": "759c7f68",
   "metadata": {},
   "outputs": [],
   "source": [
    "pred_input, input_layer = layer1(X_train, 3)"
   ]
  },
  {
   "cell_type": "code",
   "execution_count": 27,
   "id": "1168627d",
   "metadata": {},
   "outputs": [
    {
     "data": {
      "text/plain": [
       "array([[8.17458451, 8.51957282, 8.86371525, 9.12226424, 8.34746315],\n",
       "       [4.26175926, 4.69878351, 4.56809197, 4.76683384, 4.73832401],\n",
       "       [2.19410317, 2.17893407, 2.41699127, 2.46316588, 2.07141575]])"
      ]
     },
     "execution_count": 27,
     "metadata": {},
     "output_type": "execute_result"
    }
   ],
   "source": [
    "input_layer"
   ]
  },
  {
   "cell_type": "code",
   "execution_count": 28,
   "id": "3c44173d",
   "metadata": {},
   "outputs": [],
   "source": [
    "def layer2(input_layer, neurons):\n",
    "    \n",
    "    hidden_layer = []\n",
    "    pred_hidden = []\n",
    "    \n",
    "    n = np.array(input_layer).shape[0]\n",
    "    weights, bias = initialize_parameters(n, neurons)\n",
    "    \n",
    "    hidden_out = np.dot(weights, input_layer) + bias\n",
    "    #softmax = np.exp(hidden_out) / hidden_out.sum() \n",
    "    \n",
    "    #pred_hidden.append(softmax)\n",
    "    hidden_layer.append(hidden_out)\n",
    "    \n",
    "    return hidden_layer[0], pred_hidden"
   ]
  },
  {
   "cell_type": "code",
   "execution_count": 29,
   "id": "6560ce37",
   "metadata": {},
   "outputs": [],
   "source": [
    "hidden_layer, pred_hidden = layer2(input_layer, 3)"
   ]
  },
  {
   "cell_type": "code",
   "execution_count": 30,
   "id": "b42c512c",
   "metadata": {},
   "outputs": [
    {
     "data": {
      "text/plain": [
       "array([[11.7021729 , 12.36239272, 12.60572823, 13.00614666, 12.22177567],\n",
       "       [ 5.9988148 ,  6.31130889,  6.41170413,  6.59787041,  6.25147042],\n",
       "       [ 5.96002942,  6.23448367,  6.4401053 ,  6.63030221,  6.1285441 ]])"
      ]
     },
     "execution_count": 30,
     "metadata": {},
     "output_type": "execute_result"
    }
   ],
   "source": [
    "hidden_layer"
   ]
  },
  {
   "cell_type": "code",
   "execution_count": null,
   "id": "e724a875",
   "metadata": {},
   "outputs": [],
   "source": []
  }
 ],
 "metadata": {
  "kernelspec": {
   "display_name": "Python 3.9 (tfd)",
   "language": "python",
   "name": "tfd"
  },
  "language_info": {
   "codemirror_mode": {
    "name": "ipython",
    "version": 3
   },
   "file_extension": ".py",
   "mimetype": "text/x-python",
   "name": "python",
   "nbconvert_exporter": "python",
   "pygments_lexer": "ipython3",
   "version": "3.9.7"
  }
 },
 "nbformat": 4,
 "nbformat_minor": 5
}
