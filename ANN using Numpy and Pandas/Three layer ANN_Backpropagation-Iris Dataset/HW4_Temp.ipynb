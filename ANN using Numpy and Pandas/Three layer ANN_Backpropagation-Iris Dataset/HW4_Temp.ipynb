{
 "cells": [
  {
   "cell_type": "code",
   "execution_count": 1,
   "id": "61082281",
   "metadata": {},
   "outputs": [],
   "source": [
    "import pandas as pd\n",
    "import numpy as np\n",
    "import matplotlib.pyplot as plt\n",
    "import seaborn as sns\n",
    "import random"
   ]
  },
  {
   "cell_type": "code",
   "execution_count": 2,
   "id": "97aa9cc2",
   "metadata": {},
   "outputs": [
    {
     "data": {
      "text/plain": [
       "['data',\n",
       " 'target',\n",
       " 'frame',\n",
       " 'target_names',\n",
       " 'DESCR',\n",
       " 'feature_names',\n",
       " 'filename',\n",
       " 'data_module']"
      ]
     },
     "execution_count": 2,
     "metadata": {},
     "output_type": "execute_result"
    }
   ],
   "source": [
    "from  sklearn.datasets import  load_iris\n",
    "iris = load_iris()\n",
    "list(iris.keys())"
   ]
  },
  {
   "cell_type": "code",
   "execution_count": 3,
   "id": "60f3d8e6",
   "metadata": {},
   "outputs": [],
   "source": [
    "\n",
    "X = iris.data[:,:2]\n",
    "y = iris.target"
   ]
  },
  {
   "cell_type": "code",
   "execution_count": 4,
   "id": "6a360f71",
   "metadata": {},
   "outputs": [],
   "source": [
    "random.seed(64)\n",
    "sample_size = random.sample( range(0,149),5)\n",
    "\n",
    "X_train = X[sample_size]\n",
    "y_train = y[sample_size]"
   ]
  },
  {
   "cell_type": "code",
   "execution_count": 5,
   "id": "f760db38",
   "metadata": {},
   "outputs": [],
   "source": [
    "def initialize_parameters(n):\n",
    "    bias = (np.random.rand(3,1))\n",
    "    weights = (np.random.rand(3,n))\n",
    "    \n",
    "    return weights, bias"
   ]
  },
  {
   "cell_type": "code",
   "execution_count": 6,
   "id": "b5d4fbea",
   "metadata": {},
   "outputs": [],
   "source": [
    "def layer1(X):\n",
    "    \n",
    "    input_layer = []\n",
    "    pred_input = []\n",
    "    \n",
    "    n = X.shape[1]\n",
    "    weights, bias = initialize_parameters(n)\n",
    "\n",
    "    for n_weights, n_bias in zip(weights, bias):\n",
    "        layer1_out = 0\n",
    "\n",
    "        for n_inputs, weight in zip(X.T, n_weights):\n",
    "            layer1_out  += n_inputs * weight\n",
    "\n",
    "        layer1_out  += n_bias\n",
    "        z = 1 / (1 + np.exp(-layer1_out))\n",
    "\n",
    "        pred_input.append(z)\n",
    "        input_layer.append(layer1_out)\n",
    "    \n",
    "    return pred_input, input_layer\n",
    "\n",
    "pred_input, input_layer = layer1(X_train)"
   ]
  },
  {
   "cell_type": "code",
   "execution_count": 12,
   "id": "3316560b",
   "metadata": {},
   "outputs": [
    {
     "data": {
      "text/plain": [
       "[array([3.37051059, 3.62612403, 3.56630839, 3.68633004, 3.64169417]),\n",
       " array([6.74431967, 6.72907457, 7.4002438 , 7.54481324, 6.42469061]),\n",
       " array([6.69225835, 6.69926041, 7.33748331, 7.48619414, 6.40884082])]"
      ]
     },
     "execution_count": 12,
     "metadata": {},
     "output_type": "execute_result"
    }
   ],
   "source": [
    "input_layer"
   ]
  },
  {
   "cell_type": "code",
   "execution_count": 9,
   "id": "b3522958",
   "metadata": {},
   "outputs": [],
   "source": [
    "def layer2(input_layer):\n",
    "    \n",
    "    hidden_layer = []\n",
    "    pred_hidden = []\n",
    "    \n",
    "    n = np.array(input_layer).shape[0]\n",
    "    weights, bias = initialize_parameters(n)\n",
    "    \n",
    "    for h_weights, h_bias in zip(weights, bias):\n",
    "        hidden_out = 0\n",
    "\n",
    "        for n_inputs1, h_weight in zip(input_layer, h_weights):\n",
    "            hidden_out += n_inputs1 * h_weight\n",
    "\n",
    "        hidden_out += h_bias    \n",
    "        #softmax = np.exp(hidden_out) / hidden_out.sum() \n",
    "\n",
    "        #pred_hidden.append(softmax)\n",
    "        hidden_layer.append(hidden_out)\n",
    "    \n",
    "    return hidden_layer, pred_hidden\n",
    "hidden_layer, pred_hidden = layer2(input_layer)"
   ]
  },
  {
   "cell_type": "code",
   "execution_count": 10,
   "id": "e403aca8",
   "metadata": {},
   "outputs": [
    {
     "data": {
      "text/plain": [
       "[array([5.55863794, 5.58291612, 6.0602371 , 6.18141   , 5.36484849]),\n",
       " array([ 9.15507563,  9.36962551,  9.85139386, 10.07303774,  9.14088763]),\n",
       " array([ 9.11216384,  9.2394323 ,  9.8664022 , 10.07542205,  8.94866105])]"
      ]
     },
     "execution_count": 10,
     "metadata": {},
     "output_type": "execute_result"
    }
   ],
   "source": [
    "hidden_layer"
   ]
  },
  {
   "cell_type": "code",
   "execution_count": null,
   "id": "48f26c72",
   "metadata": {},
   "outputs": [],
   "source": []
  }
 ],
 "metadata": {
  "kernelspec": {
   "display_name": "Python 3.9 (tfd)",
   "language": "python",
   "name": "tfd"
  },
  "language_info": {
   "codemirror_mode": {
    "name": "ipython",
    "version": 3
   },
   "file_extension": ".py",
   "mimetype": "text/x-python",
   "name": "python",
   "nbconvert_exporter": "python",
   "pygments_lexer": "ipython3",
   "version": "3.9.7"
  }
 },
 "nbformat": 4,
 "nbformat_minor": 5
}
