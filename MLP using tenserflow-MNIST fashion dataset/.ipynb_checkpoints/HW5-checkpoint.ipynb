{
 "cells": [
  {
   "cell_type": "code",
   "execution_count": 2,
   "id": "380e24c7",
   "metadata": {},
   "outputs": [
    {
     "name": "stdout",
     "output_type": "stream",
     "text": [
      "Init Plugin\n",
      "Init Graph Optimizer\n",
      "Init Kernel\n"
     ]
    }
   ],
   "source": [
    "import tensorflow as tf\n",
    "import pandas as pd\n",
    "from tensorflow import keras\n",
    "import numpy as np\n",
    "import matplotlib.pyplot as plt\n",
    "import seaborn as sns\n",
    "\n",
    "%matplotlib inline"
   ]
  },
  {
   "cell_type": "code",
   "execution_count": null,
   "id": "b5481417",
   "metadata": {},
   "outputs": [],
   "source": [
    "fashion_mnist = keras.datasets.fashion_mnist\n",
    "\n",
    "(X_train_full, y_train_full), (X_test, y_test) = fashion_mnist.load_data()\n",
    "\n",
    "X_train_full.shape\n",
    "X_train_full.dtype\n",
    "\n",
    "# Get validation set and Scale using Min-Max scaler\n",
    "\n",
    "X_valid, X_train = X_train_full[:6000]/255.0 , X_train_full[6000:]/255.0\n",
    "y_valid, y_train = y_train_full[:6000] , y_train_full[6000:]\n",
    "X_test = X_test / 255.0\n",
    "\n",
    "\n",
    "class_names = [\"T-shirt/top\", \"Trouser\", \"pullover\", \"Dress\", \"Coat\", \n",
    "               \"Sandal\", \"Shirt\", \"Sneaker\", \"Bag\", \"Ankle_boot\"]"
   ]
  },
  {
   "cell_type": "code",
   "execution_count": 3,
   "id": "2243c43b",
   "metadata": {},
   "outputs": [],
   "source": [
    "from tensorflow.keras.models import Sequential\n",
    "from tensorflow.keras.layers import Dense, Activation, Flatten, Dropout\n",
    "from tensorflow.keras.callbacks import EarlyStopping, ModelCheckpoint\n",
    "\n",
    "early_stop = EarlyStopping(monitor='val_loss',mode = \"min\", patience=3, verbose=1)"
   ]
  },
  {
   "cell_type": "markdown",
   "id": "36d8bc4f",
   "metadata": {},
   "source": [
    "### Question 2.1"
   ]
  },
  {
   "cell_type": "markdown",
   "id": "390d32e4",
   "metadata": {},
   "source": [
    "#### Creating & training the model with only one hidden layer"
   ]
  },
  {
   "cell_type": "code",
   "execution_count": null,
   "id": "1058841f",
   "metadata": {},
   "outputs": [],
   "source": [
    "model = Sequential()\n",
    "\n",
    "model.add(Flatten(input_shape=[28,28]))\n",
    "model.add(Dense(100, activation='relu')) # First Dense layer\n",
    "\n",
    "model.add(Dense(10, activation='softmax')) # Output layer\n",
    "\n",
    "model.compile(loss='sparse_categorical_crossentropy',\n",
    "              optimizer='adam',\n",
    "              metrics=['accuracy']) \n",
    "\n",
    "model.fit(X_train, y_train, epochs=10,validation_data=(X_valid, y_valid),callbacks=[early_stop])"
   ]
  },
  {
   "cell_type": "markdown",
   "id": "1da3f1e3",
   "metadata": {},
   "source": [
    "#### Model Evaluation"
   ]
  },
  {
   "cell_type": "code",
   "execution_count": null,
   "id": "dabb4968",
   "metadata": {},
   "outputs": [],
   "source": [
    "losses1 = pd.DataFrame(model.history.history)\n",
    "losses1[['loss','val_loss']].plot(figsize = (10,5), title=\"Loss vs Val_Loss\")\n",
    "losses1[['accuracy','val_accuracy']].plot(figsize = (10,5), title=\"Accuracy vs Val_Acc\")"
   ]
  },
  {
   "cell_type": "markdown",
   "id": "e69f2639",
   "metadata": {},
   "source": [
    "### Question 2.2"
   ]
  },
  {
   "cell_type": "markdown",
   "id": "9685cde7",
   "metadata": {},
   "source": [
    "#### Creating & training the model with only two hidden layers"
   ]
  },
  {
   "cell_type": "code",
   "execution_count": null,
   "id": "e429739c",
   "metadata": {},
   "outputs": [],
   "source": [
    "model = Sequential()\n",
    "\n",
    "model.add(Flatten(input_shape=[28,28]))\n",
    "model.add(Dense(100, activation='relu'))\n",
    "\n",
    "model.add(Dense(100, activation='relu')) # Second Dense layer\n",
    "\n",
    "model.add(Dense(10, activation='softmax')) # Output layer\n",
    "\n",
    "model.compile(loss='sparse_categorical_crossentropy',\n",
    "              optimizer='adam',\n",
    "              metrics=['accuracy']) \n",
    "\n",
    "model.fit(X_train, y_train, epochs=10,validation_data=(X_valid, y_valid),callbacks=[early_stop])"
   ]
  },
  {
   "cell_type": "markdown",
   "id": "1d2b7fe8",
   "metadata": {},
   "source": [
    "#### Model Evaluation"
   ]
  },
  {
   "cell_type": "code",
   "execution_count": null,
   "id": "e6f0b7d6",
   "metadata": {},
   "outputs": [],
   "source": [
    "losses2 = pd.DataFrame(model.history.history)\n",
    "losses2[['loss','val_loss']].plot(figsize = (10,5), title=\"Loss vs Val_Loss\")\n",
    "losses2[['accuracy','val_accuracy']].plot(figsize = (10,5), title=\"Accuracy vs Val_Acc\")"
   ]
  },
  {
   "cell_type": "markdown",
   "id": "4e73b70e",
   "metadata": {},
   "source": [
    "### Question 2.3"
   ]
  },
  {
   "cell_type": "markdown",
   "id": "6a915bc9",
   "metadata": {},
   "source": [
    "#### Creating & training the model with only three hidden layers"
   ]
  },
  {
   "cell_type": "code",
   "execution_count": null,
   "id": "0f0f2c3b",
   "metadata": {},
   "outputs": [],
   "source": [
    "model = Sequential()\n",
    "model.add(Flatten(input_shape=[28,28]))\n",
    "model.add(Dense(100, activation='relu'))\n",
    "\n",
    "model.add(Dense(100, activation='relu'))\n",
    "\n",
    "model.add(Dense(100, activation='relu')) # Third Dense layer\n",
    "\n",
    "model.add(Dense(10, activation='softmax')) # Output layer\n",
    "\n",
    "model.compile(loss='sparse_categorical_crossentropy',\n",
    "              optimizer='adam',\n",
    "              metrics=['accuracy']) \n",
    "\n",
    "model.fit(X_train, y_train, epochs=10,validation_data=(X_valid, y_valid),callbacks=[early_stop])"
   ]
  },
  {
   "cell_type": "markdown",
   "id": "3e53a232",
   "metadata": {},
   "source": [
    "#### Model Evaluation"
   ]
  },
  {
   "cell_type": "code",
   "execution_count": null,
   "id": "a6dff29d",
   "metadata": {},
   "outputs": [],
   "source": [
    "losses3 = pd.DataFrame(model.history.history)\n",
    "losses3[['loss','val_loss']].plot(figsize = (10,5), title=\"Loss vs Val_Loss\")\n",
    "losses3[['accuracy','val_accuracy']].plot(figsize = (10,5), title=\"Accuracy vs Val_Acc\")"
   ]
  },
  {
   "cell_type": "markdown",
   "id": "d95401d5",
   "metadata": {},
   "source": [
    "# Question 3"
   ]
  },
  {
   "cell_type": "code",
   "execution_count": 134,
   "id": "9667a959",
   "metadata": {},
   "outputs": [],
   "source": [
    "mnist = keras.datasets.mnist\n",
    "\n",
    "(X_train_full, y_train_full), (X_test, y_test) = mnist.load_data()\n",
    "\n",
    "# Get validation set and Scale using Min-Max scaler\n",
    "\n",
    "X_valid, X_train = X_train_full[:6000]/255.0 , X_train_full[6000:]/255.0\n",
    "y_valid, y_train = y_train_full[:6000] , y_train_full[6000:]\n",
    "X_test = X_test / 255.0\n",
    "\n"
   ]
  },
  {
   "cell_type": "code",
   "execution_count": 135,
   "id": "13daef68",
   "metadata": {},
   "outputs": [],
   "source": [
    "train_filter = np.where((y_train == 0 ) | (y_train == 1) | (y_train == 2) | (y_train == 3) | (y_train == 4))\n",
    "valid_filter = np.where((y_valid == 0 ) | (y_valid == 1) | (y_valid == 2) | (y_valid == 3) | (y_valid == 4))\n",
    "test_filter = np.where((y_test == 0) | (y_test == 1)  | (y_test == 2)  | (y_test == 3)  | (y_test == 4))\n",
    "\n",
    "X_train, y_train = X_train[train_filter], y_train[train_filter]\n",
    "X_valid, y_valid = X_valid[valid_filter], y_valid[valid_filter]\n",
    "X_test, y_test = X_test[test_filter], y_test[test_filter]"
   ]
  },
  {
   "cell_type": "code",
   "execution_count": null,
   "id": "b8c8b8b3",
   "metadata": {},
   "outputs": [],
   "source": []
  },
  {
   "cell_type": "code",
   "execution_count": 136,
   "id": "1b76db07",
   "metadata": {},
   "outputs": [],
   "source": [
    "early_stop_new = EarlyStopping(monitor='val_loss',mode = \"min\", patience=3, verbose=1)\n",
    "\n",
    "model_checkpoints = ModelCheckpoint(\"HW5_Khanna.h5\", \n",
    "                                    save_best_only=True, monitor='val_loss', mode='min', save_freq='epoch')"
   ]
  },
  {
   "cell_type": "code",
   "execution_count": 137,
   "id": "4400d001",
   "metadata": {},
   "outputs": [
    {
     "name": "stdout",
     "output_type": "stream",
     "text": [
      "Epoch 1/10\n",
      "  8/861 [..............................] - ETA: 13s - loss: 1.0005 - accuracy: 0.6562"
     ]
    },
    {
     "name": "stderr",
     "output_type": "stream",
     "text": [
      "2021-10-07 16:34:08.541921: I tensorflow/core/grappler/optimizers/custom_graph_optimizer_registry.cc:112] Plugin optimizer for device_type GPU is enabled.\n"
     ]
    },
    {
     "name": "stdout",
     "output_type": "stream",
     "text": [
      "858/861 [============================>.] - ETA: 0s - loss: 0.1203 - accuracy: 0.9630"
     ]
    },
    {
     "name": "stderr",
     "output_type": "stream",
     "text": [
      "2021-10-07 16:34:17.113871: I tensorflow/core/grappler/optimizers/custom_graph_optimizer_registry.cc:112] Plugin optimizer for device_type GPU is enabled.\n"
     ]
    },
    {
     "name": "stdout",
     "output_type": "stream",
     "text": [
      "861/861 [==============================] - 9s 11ms/step - loss: 0.1201 - accuracy: 0.9630 - val_loss: 0.0779 - val_accuracy: 0.9737\n",
      "Epoch 2/10\n",
      "861/861 [==============================] - 9s 10ms/step - loss: 0.0626 - accuracy: 0.9807 - val_loss: 0.0529 - val_accuracy: 0.9841\n",
      "Epoch 3/10\n",
      "861/861 [==============================] - 9s 11ms/step - loss: 0.0437 - accuracy: 0.9864 - val_loss: 0.0472 - val_accuracy: 0.9847\n",
      "Epoch 4/10\n",
      "861/861 [==============================] - 9s 10ms/step - loss: 0.0381 - accuracy: 0.9884 - val_loss: 0.0389 - val_accuracy: 0.9867\n",
      "Epoch 5/10\n",
      "861/861 [==============================] - 9s 10ms/step - loss: 0.0274 - accuracy: 0.9915 - val_loss: 0.0559 - val_accuracy: 0.9834\n",
      "Epoch 6/10\n",
      "861/861 [==============================] - 9s 10ms/step - loss: 0.0234 - accuracy: 0.9929 - val_loss: 0.0386 - val_accuracy: 0.9870\n",
      "Epoch 7/10\n",
      "861/861 [==============================] - 9s 10ms/step - loss: 0.0216 - accuracy: 0.9930 - val_loss: 0.0487 - val_accuracy: 0.9860\n",
      "Epoch 8/10\n",
      "861/861 [==============================] - 9s 10ms/step - loss: 0.0172 - accuracy: 0.9948 - val_loss: 0.0372 - val_accuracy: 0.9896\n",
      "Epoch 9/10\n",
      "861/861 [==============================] - 9s 10ms/step - loss: 0.0143 - accuracy: 0.9953 - val_loss: 0.0402 - val_accuracy: 0.9896\n",
      "Epoch 10/10\n",
      "861/861 [==============================] - 9s 10ms/step - loss: 0.0163 - accuracy: 0.9948 - val_loss: 0.0510 - val_accuracy: 0.9837\n"
     ]
    },
    {
     "data": {
      "text/plain": [
       "<tensorflow.python.keras.callbacks.History at 0x2b4bf8ca0>"
      ]
     },
     "execution_count": 137,
     "metadata": {},
     "output_type": "execute_result"
    }
   ],
   "source": [
    "tf.random.set_seed(64)\n",
    "\n",
    "model = Sequential()\n",
    "model.add(Flatten())\n",
    "model.add(Dense(100, input_shape=(28, 28),activation='elu')) # Layer 1\n",
    "\n",
    "model.add(Dense(100, activation='elu')) # Layer 2\n",
    "\n",
    "model.add(Dense(100, activation='elu')) # # Layer 3\n",
    "\n",
    "model.add(Dense(100, activation='elu')) # # Layer 4\n",
    "\n",
    "model.add(Dense(100, activation='elu')) # # Layer 5\n",
    "\n",
    "model.add(Dense(5, activation='softmax')) # Output layer\n",
    "\n",
    "model.compile(loss='sparse_categorical_crossentropy',\n",
    "              optimizer='adam',\n",
    "              metrics=['accuracy']) \n",
    "\n",
    "model.fit(X_train, y_train, epochs=10,validation_data=(X_valid, y_valid),callbacks=[early_stop_new, model_checkpoints])"
   ]
  },
  {
   "cell_type": "code",
   "execution_count": 138,
   "id": "2124d8ff",
   "metadata": {},
   "outputs": [
    {
     "data": {
      "text/plain": [
       "<AxesSubplot:title={'center':'Accuracy vs Val_Acc'}>"
      ]
     },
     "execution_count": 138,
     "metadata": {},
     "output_type": "execute_result"
    },
    {
     "data": {
      "image/png": "[encoded data removed]",
      "text/plain": [
       "<Figure size 720x360 with 1 Axes>"
      ]
     },
     "metadata": {
      "needs_background": "light"
     },
     "output_type": "display_data"
    },
    {
     "data": {
      "image/png": "[encoded data removed]",
      "text/plain": [
       "<Figure size 720x360 with 1 Axes>"
      ]
     },
     "metadata": {
      "needs_background": "light"
     },
     "output_type": "display_data"
    }
   ],
   "source": [
    "losses = pd.DataFrame(model.history.history)\n",
    "losses[['loss','val_loss']].plot(figsize = (10,5), title=\"Loss vs Val_Loss\")\n",
    "losses[['accuracy','val_accuracy']].plot(figsize = (10,5), title=\"Accuracy vs Val_Acc\")"
   ]
  },
  {
   "cell_type": "code",
   "execution_count": 139,
   "id": "8824e5c8",
   "metadata": {},
   "outputs": [
    {
     "name": "stderr",
     "output_type": "stream",
     "text": [
      "/opt/homebrew/Caskroom/miniforge/base/envs/tfd/lib/python3.9/site-packages/tensorflow/python/keras/engine/sequential.py:455: UserWarning: `model.predict_classes()` is deprecated and will be removed after 2021-01-01. Please use instead:* `np.argmax(model.predict(x), axis=-1)`,   if your model does multi-class classification   (e.g. if it uses a `softmax` last-layer activation).* `(model.predict(x) > 0.5).astype(\"int32\")`,   if your model does binary classification   (e.g. if it uses a `sigmoid` last-layer activation).\n",
      "  warnings.warn('`model.predict_classes()` is deprecated and '\n",
      "2021-10-07 16:35:37.861273: I tensorflow/core/grappler/optimizers/custom_graph_optimizer_registry.cc:112] Plugin optimizer for device_type GPU is enabled.\n"
     ]
    },
    {
     "name": "stdout",
     "output_type": "stream",
     "text": [
      "              precision    recall  f1-score   support\n",
      "\n",
      "           0       0.98      0.99      0.99       980\n",
      "           1       1.00      0.97      0.99      1135\n",
      "           2       0.99      0.98      0.98      1032\n",
      "           3       0.98      1.00      0.99      1010\n",
      "           4       0.99      0.99      0.99       982\n",
      "\n",
      "    accuracy                           0.99      5139\n",
      "   macro avg       0.99      0.99      0.99      5139\n",
      "weighted avg       0.99      0.99      0.99      5139\n",
      "\n"
     ]
    }
   ],
   "source": [
    "from sklearn.metrics import classification_report,confusion_matrix\n",
    "\n",
    "predictions = model.predict_classes(X_test)\n",
    "print(classification_report(y_test,predictions))"
   ]
  },
  {
   "cell_type": "markdown",
   "id": "a4a9fc5c",
   "metadata": {},
   "source": [
    "#### Model 2\n",
    "    Randomly deactivating 20% or 50% of neurons from each hidden layer to avoid overfit.\n",
    "    Training the model with batch size of 100\n",
    "    LR = 0.003\n"
   ]
  },
  {
   "cell_type": "code",
   "execution_count": 140,
   "id": "ccb941f8",
   "metadata": {},
   "outputs": [
    {
     "name": "stdout",
     "output_type": "stream",
     "text": [
      "Epoch 1/10\n",
      "  9/276 [..............................] - ETA: 3s - loss: 0.8654 - accuracy: 0.6600"
     ]
    },
    {
     "name": "stderr",
     "output_type": "stream",
     "text": [
      "2021-10-07 16:35:38.755263: I tensorflow/core/grappler/optimizers/custom_graph_optimizer_registry.cc:112] Plugin optimizer for device_type GPU is enabled.\n"
     ]
    },
    {
     "name": "stdout",
     "output_type": "stream",
     "text": [
      "276/276 [==============================] - 4s 12ms/step - loss: 0.2195 - accuracy: 0.9324 - val_loss: 0.0970 - val_accuracy: 0.9724\n"
     ]
    },
    {
     "name": "stderr",
     "output_type": "stream",
     "text": [
      "2021-10-07 16:35:42.056313: I tensorflow/core/grappler/optimizers/custom_graph_optimizer_registry.cc:112] Plugin optimizer for device_type GPU is enabled.\n"
     ]
    },
    {
     "name": "stdout",
     "output_type": "stream",
     "text": [
      "Epoch 2/10\n",
      "276/276 [==============================] - 3s 12ms/step - loss: 0.1320 - accuracy: 0.9631 - val_loss: 0.0952 - val_accuracy: 0.9753\n",
      "Epoch 3/10\n",
      "276/276 [==============================] - 3s 12ms/step - loss: 0.1115 - accuracy: 0.9680 - val_loss: 0.0713 - val_accuracy: 0.9802\n",
      "Epoch 4/10\n",
      "276/276 [==============================] - 4s 13ms/step - loss: 0.0943 - accuracy: 0.9740 - val_loss: 0.0627 - val_accuracy: 0.9811\n",
      "Epoch 5/10\n",
      "276/276 [==============================] - 3s 11ms/step - loss: 0.0869 - accuracy: 0.9755 - val_loss: 0.0659 - val_accuracy: 0.9815\n",
      "Epoch 6/10\n",
      "276/276 [==============================] - 3s 13ms/step - loss: 0.0854 - accuracy: 0.9759 - val_loss: 0.0571 - val_accuracy: 0.9818\n",
      "Epoch 7/10\n",
      "276/276 [==============================] - 3s 12ms/step - loss: 0.0734 - accuracy: 0.9801 - val_loss: 0.0447 - val_accuracy: 0.9857\n",
      "Epoch 8/10\n",
      "276/276 [==============================] - 4s 13ms/step - loss: 0.0746 - accuracy: 0.9790 - val_loss: 0.0524 - val_accuracy: 0.9834\n",
      "Epoch 9/10\n",
      "276/276 [==============================] - 3s 12ms/step - loss: 0.0688 - accuracy: 0.9816 - val_loss: 0.0530 - val_accuracy: 0.9850\n",
      "Epoch 10/10\n",
      "276/276 [==============================] - 3s 12ms/step - loss: 0.0669 - accuracy: 0.9819 - val_loss: 0.0542 - val_accuracy: 0.9815\n",
      "Epoch 00010: early stopping\n"
     ]
    },
    {
     "data": {
      "text/plain": [
       "<tensorflow.python.keras.callbacks.History at 0x2a2a08850>"
      ]
     },
     "execution_count": 140,
     "metadata": {},
     "output_type": "execute_result"
    }
   ],
   "source": [
    "tf.random.set_seed(64)\n",
    "\n",
    "model = Sequential()\n",
    "\n",
    "model.add(Flatten())\n",
    "model.add(Dense(100, input_shape=(28, 28),activation='elu')) \n",
    "model.add(Dropout(0.5)) # deactivating randomly 50% of neurons to avoid overfit\n",
    "\n",
    "model.add(Dense(100, activation='elu')) # Layer 2\n",
    "model.add(Dropout(0.2))\n",
    "\n",
    "model.add(Dense(100, activation='elu')) # # Layer 3\n",
    "model.add(Dropout(0.2))\n",
    "\n",
    "model.add(Dense(100, activation='elu')) # # Layer 4\n",
    "model.add(Dropout(0.2))\n",
    "\n",
    "model.add(Dense(100, activation='elu')) # # Layer 5\n",
    "model.add(Dropout(0.2))\n",
    "\n",
    "model.add(Dense(5, activation='softmax')) # Output layer\n",
    "\n",
    "model.compile(loss='sparse_categorical_crossentropy',\n",
    "              optimizer=keras.optimizers.Adam(learning_rate=0.003),\n",
    "              metrics=['accuracy']) \n",
    "\n",
    "\n",
    "model.fit(X_train, y_train, epochs=10,validation_data=(X_valid, y_valid),batch_size=100, \n",
    "          callbacks=[early_stop_new, model_checkpoints])"
   ]
  },
  {
   "cell_type": "code",
   "execution_count": 141,
   "id": "d4c1eafd",
   "metadata": {},
   "outputs": [
    {
     "data": {
      "text/plain": [
       "<AxesSubplot:title={'center':'Accuracy vs Val_Acc'}>"
      ]
     },
     "execution_count": 141,
     "metadata": {},
     "output_type": "execute_result"
    },
    {
     "data": {
      "image/png": "[encoded data removed]",
      "text/plain": [
       "<Figure size 720x360 with 1 Axes>"
      ]
     },
     "metadata": {
      "needs_background": "light"
     },
     "output_type": "display_data"
    },
    {
     "data": {
      "image/png": "[encoded data removed]",
      "text/plain": [
       "<Figure size 720x360 with 1 Axes>"
      ]
     },
     "metadata": {
      "needs_background": "light"
     },
     "output_type": "display_data"
    }
   ],
   "source": [
    "losses = pd.DataFrame(model.history.history)\n",
    "losses[['loss','val_loss']].plot(figsize = (10,5), title=\"Loss vs Val_Loss\")\n",
    "losses[['accuracy','val_accuracy']].plot(figsize = (10,5), title=\"Accuracy vs Val_Acc\")"
   ]
  },
  {
   "cell_type": "code",
   "execution_count": 142,
   "id": "b90dee77",
   "metadata": {},
   "outputs": [
    {
     "name": "stderr",
     "output_type": "stream",
     "text": [
      "/opt/homebrew/Caskroom/miniforge/base/envs/tfd/lib/python3.9/site-packages/tensorflow/python/keras/engine/sequential.py:455: UserWarning: `model.predict_classes()` is deprecated and will be removed after 2021-01-01. Please use instead:* `np.argmax(model.predict(x), axis=-1)`,   if your model does multi-class classification   (e.g. if it uses a `softmax` last-layer activation).* `(model.predict(x) > 0.5).astype(\"int32\")`,   if your model does binary classification   (e.g. if it uses a `sigmoid` last-layer activation).\n",
      "  warnings.warn('`model.predict_classes()` is deprecated and '\n",
      "2021-10-07 16:36:12.956486: I tensorflow/core/grappler/optimizers/custom_graph_optimizer_registry.cc:112] Plugin optimizer for device_type GPU is enabled.\n"
     ]
    },
    {
     "name": "stdout",
     "output_type": "stream",
     "text": [
      "              precision    recall  f1-score   support\n",
      "\n",
      "           0       0.99      1.00      0.99       980\n",
      "           1       1.00      0.99      0.99      1135\n",
      "           2       0.98      0.97      0.98      1032\n",
      "           3       0.98      0.99      0.99      1010\n",
      "           4       0.99      0.99      0.99       982\n",
      "\n",
      "    accuracy                           0.99      5139\n",
      "   macro avg       0.99      0.99      0.99      5139\n",
      "weighted avg       0.99      0.99      0.99      5139\n",
      "\n"
     ]
    }
   ],
   "source": [
    "predictions = model.predict_classes(X_test)\n",
    "print(classification_report(y_test,predictions))"
   ]
  },
  {
   "cell_type": "code",
   "execution_count": 144,
   "id": "7949ffaa",
   "metadata": {},
   "outputs": [],
   "source": [
    "model.save('HW5_Khanna.h5')\n",
    "model.save_weights(\"HW5_Khanna.ckpt\")"
   ]
  },
  {
   "cell_type": "code",
   "execution_count": null,
   "id": "8a3ebe73",
   "metadata": {},
   "outputs": [],
   "source": []
  },
  {
   "cell_type": "markdown",
   "id": "9fa6c4d0",
   "metadata": {},
   "source": [
    "# Question 4"
   ]
  },
  {
   "cell_type": "code",
   "execution_count": 148,
   "id": "0c911494",
   "metadata": {},
   "outputs": [],
   "source": [
    "from tensorflow.keras.models import load_model\n",
    "\n",
    "best_model = load_model('HW5_Khanna.h5')\n",
    "best_weights = model.load_weights(\"HW5_Khanna.ckpt\")\n",
    "\n",
    "early_stop_new1 = EarlyStopping(monitor='val_loss',mode = \"min\", patience=3, verbose=1, restore_best_weights=True)"
   ]
  },
  {
   "cell_type": "code",
   "execution_count": 150,
   "id": "d0e4d73f",
   "metadata": {},
   "outputs": [
    {
     "name": "stdout",
     "output_type": "stream",
     "text": [
      "Epoch 1/10\n",
      "861/861 [==============================] - 9s 11ms/step - loss: 0.0998 - accuracy: 0.9753 - val_loss: 0.0648 - val_accuracy: 0.9808\n",
      "Epoch 2/10\n",
      "861/861 [==============================] - 9s 11ms/step - loss: 0.0989 - accuracy: 0.9776 - val_loss: 0.0793 - val_accuracy: 0.9857\n",
      "Epoch 3/10\n",
      "861/861 [==============================] - 9s 11ms/step - loss: 0.0897 - accuracy: 0.9785 - val_loss: 0.0839 - val_accuracy: 0.9850\n",
      "Epoch 4/10\n",
      "861/861 [==============================] - 10s 12ms/step - loss: 0.1150 - accuracy: 0.9740 - val_loss: 0.0461 - val_accuracy: 0.9873\n",
      "Epoch 5/10\n",
      "861/861 [==============================] - 9s 11ms/step - loss: 0.0867 - accuracy: 0.9798 - val_loss: 0.0599 - val_accuracy: 0.9863\n",
      "Epoch 6/10\n",
      "861/861 [==============================] - 9s 10ms/step - loss: 0.0885 - accuracy: 0.9784 - val_loss: 0.0485 - val_accuracy: 0.9857\n",
      "Epoch 7/10\n",
      "861/861 [==============================] - 9s 11ms/step - loss: 0.1355 - accuracy: 0.9700 - val_loss: 0.0606 - val_accuracy: 0.9860\n",
      "Epoch 00007: early stopping\n",
      "Training time: 65.33788704872131s\n"
     ]
    }
   ],
   "source": [
    "import time\n",
    "\n",
    "start = time.time()\n",
    "best_model.fit(X_train, y_train, epochs=10,validation_data=(X_valid, y_valid), \n",
    "          callbacks=[early_stop_new])\n",
    "stop = time.time()\n",
    "\n",
    "print(f\"Training time: {stop - start}s\")"
   ]
  },
  {
   "cell_type": "markdown",
   "id": "f00b6150",
   "metadata": {},
   "source": [
    "# Question 4\n",
    "    Time how long it takes to train the model in part (b) for 2 Epochs.\n",
    "    Report the accuracy of part (b) after 2 Epochs"
   ]
  },
  {
   "cell_type": "code",
   "execution_count": 155,
   "id": "22451840",
   "metadata": {},
   "outputs": [],
   "source": [
    "mnist = keras.datasets.mnist\n",
    "\n",
    "(X_train_full, y_train_full), (X_test, y_test) = mnist.load_data()\n",
    "\n",
    "X = np.concatenate([X_train_full, X_test])\n",
    "y = np.concatenate([y_train_full, y_test])\n",
    "\n",
    "from sklearn.model_selection import train_test_split\n",
    "\n",
    "X_train, X_test, y_train, y_test = train_test_split(X, y, test_size=0.2, random_state=64)\n",
    "\n",
    "# Get validation set and Scale using Min-Max scaler (80-20 split)\n",
    "\n",
    "X_train = X_train / 255.0\n",
    "X_test = X_test / 255.0"
   ]
  },
  {
   "cell_type": "code",
   "execution_count": 156,
   "id": "6c10b0a4",
   "metadata": {},
   "outputs": [],
   "source": [
    "train_filter = np.where((y_train == 5 ) | (y_train == 6) | (y_train == 7) | (y_train == 8) | (y_train == 9))\n",
    "test_filter = np.where((y_test == 5) | (y_test == 6)  | (y_test == 7)  | (y_test == 8)  | (y_test == 9))\n",
    "\n",
    "X_train, y_train = X_train[train_filter], y_train[train_filter]\n",
    "X_test, y_test = X_test[test_filter], y_test[test_filter]"
   ]
  },
  {
   "cell_type": "code",
   "execution_count": null,
   "id": "e76f3f2f",
   "metadata": {},
   "outputs": [],
   "source": [
    "dx = list()\n",
    "\n",
    "count_5 = 0\n",
    "count_6 = 0\n",
    "count_7 = 0\n",
    "count_8 = 0\n",
    "count_9 = 0\n",
    "\n",
    "for i in range(len(y_train_full)):\n",
    "    if y_train_full[i] in [5, 6, 7, 8, 9]:\n",
    "        \n",
    "        if y_train_full[i] == 5:\n",
    "            count_5 = count_5 + 1\n",
    "            if count_5 < 100:\n",
    "                idx.append(i)\n",
    "                \n",
    "        if y_train_full[i] == 6:\n",
    "            count_6 = count_6 + 1\n",
    "            if count_6 < 100:\n",
    "                idx.append(i)\n",
    "                \n",
    "        if y_train_full[i] == 7:\n",
    "            count_7 = count_7 + 1\n",
    "            if count_7 < 100:\n",
    "                idx.append(i)\n",
    "        \n",
    "        if y_train_full[i] == 8:\n",
    "            count_8 = count_8 + 1\n",
    "            if count_8 < 100:\n",
    "                idx.append(i)\n",
    "                \n",
    "        if y_train_full[i] == 9:\n",
    "            count_9 = count_9 + 1\n",
    "            if count_9 < 100:\n",
    "                idx.append(i)\n",
    "\n",
    "X_train_full = X_train_full[idx]\n",
    "y_train = y_train_full[idx]\n",
    "\n",
    "#for test data\n",
    "idx = list()\n",
    "\n",
    "for i in range(len(y_test)):\n",
    "    if y_test[i] in [0, 1, 2, 3, 4]:\n",
    "        idx.append(i)\n",
    "\n",
    "X_test = X_test[idx]\n",
    "y_test = y_test[idx]"
   ]
  },
  {
   "cell_type": "code",
   "execution_count": null,
   "id": "3fd88915",
   "metadata": {},
   "outputs": [],
   "source": []
  },
  {
   "cell_type": "code",
   "execution_count": null,
   "id": "ad241ebd",
   "metadata": {},
   "outputs": [],
   "source": []
  },
  {
   "cell_type": "code",
   "execution_count": null,
   "id": "df8dd77c",
   "metadata": {},
   "outputs": [],
   "source": []
  },
  {
   "cell_type": "code",
   "execution_count": null,
   "id": "68587bf9",
   "metadata": {},
   "outputs": [],
   "source": [
    "start = time.time()\n",
    "best_model.fit(X_train, y_train, epochs=2,validation_data=(X_test, y_test), \n",
    "          callbacks=[early_stop_new1])\n",
    "stop = start = time.time()\n",
    "\n",
    "print(f\"Training time: {stop - start}s\")"
   ]
  },
  {
   "cell_type": "code",
   "execution_count": null,
   "id": "de2c22b0",
   "metadata": {},
   "outputs": [],
   "source": [
    "losses = pd.DataFrame(best_model.history.history)\n",
    "losses[['accuracy','val_accuracy']].plot(figsize = (10,5), title=\"Accuracy( Train vs Test)\")"
   ]
  },
  {
   "cell_type": "code",
   "execution_count": null,
   "id": "62359371",
   "metadata": {},
   "outputs": [],
   "source": []
  },
  {
   "cell_type": "markdown",
   "id": "45dc1149",
   "metadata": {},
   "source": [
    "# Question 4\n",
    "    Time how long it takes to train the model in part (b) for 20 Epochs.\n",
    "    Report the accuracy of part (b) after 20 Epochs"
   ]
  },
  {
   "cell_type": "code",
   "execution_count": null,
   "id": "4a360bfe",
   "metadata": {},
   "outputs": [],
   "source": [
    "start = time.time()\n",
    "best_model.fit(X_train, y_train, epochs=20,validation_data=(X_test, y_test), \n",
    "          callbacks=[early_stop_new1])\n",
    "stop = start = time.time()\n",
    "\n",
    "print(f\"Training time: {stop - start}s\")"
   ]
  },
  {
   "cell_type": "code",
   "execution_count": null,
   "id": "a7b9edbc",
   "metadata": {},
   "outputs": [],
   "source": [
    "losses = pd.DataFrame(best_model.history.history)\n",
    "losses[['accuracy','val_accuracy']].plot(figsize = (10,5), title=\"Accuracy( Train vs Test)\")"
   ]
  },
  {
   "cell_type": "code",
   "execution_count": null,
   "id": "1a94f678",
   "metadata": {},
   "outputs": [],
   "source": []
  }
 ],
 "metadata": {
  "kernelspec": {
   "display_name": "Python 3 (ipykernel)",
   "language": "python",
   "name": "python3"
  },
  "language_info": {
   "codemirror_mode": {
    "name": "ipython",
    "version": 3
   },
   "file_extension": ".py",
   "mimetype": "text/x-python",
   "name": "python",
   "nbconvert_exporter": "python",
   "pygments_lexer": "ipython3",
   "version": "3.9.7"
  }
 },
 "nbformat": 4,
 "nbformat_minor": 5
}
